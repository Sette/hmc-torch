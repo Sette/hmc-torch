{
 "cells": [
  {
   "cell_type": "code",
   "execution_count": 1,
   "id": "09d4c409-2a44-4d14-9ccd-e34adf054d7d",
   "metadata": {
    "ExecuteTime": {
     "end_time": "2024-09-05T21:55:57.388801Z",
     "start_time": "2024-09-05T21:55:55.985278Z"
    }
   },
   "outputs": [],
   "source": [
    "# %%\n",
    "import os\n",
    "import json\n",
    "import torch\n",
    "import ast\n",
    "import numpy as np\n",
    "from datetime import UTC\n",
    "from datetime import datetime as dt\n",
    "import pandas as pd\n",
    "\n",
    "from hmc.model import ClassificationModel\n"
   ]
  },
  {
   "cell_type": "code",
   "execution_count": 2,
   "id": "c217b240-324a-4e20-ac59-3d7d88671c2e",
   "metadata": {
    "ExecuteTime": {
     "end_time": "2024-09-05T21:55:59.719860Z",
     "start_time": "2024-09-05T21:55:59.714228Z"
    }
   },
   "outputs": [],
   "source": [
    "base_path = \"/home/bruno/storage/data/fma/trains/rock_electronic\"\n",
    "test_csv_path = os.path.join(base_path, 'test.csv')\n",
    "jobs_path = os.path.join(base_path, 'jobs')\n",
    "model_id = '20241015_180111'\n"
   ]
  },
  {
   "cell_type": "code",
   "execution_count": 3,
   "id": "5f5a2105",
   "metadata": {},
   "outputs": [],
   "source": [
    "train_path = os.path.join(jobs_path, model_id)\n",
    "model_path = os.path.join(train_path, 'best_binary.pth')\n",
    "\n",
    "torch_path = os.path.join(base_path, 'torch')\n",
    "metadata_path = os.path.join(base_path, \"metadata.json\")\n",
    "labels_path = os.path.join(base_path, \"labels.json\")\n",
    "testset_path = os.path.join(torch_path, 'test')"
   ]
  },
  {
   "cell_type": "code",
   "execution_count": 4,
   "id": "f886f307",
   "metadata": {},
   "outputs": [],
   "source": [
    "df_test = pd.read_csv(test_csv_path)"
   ]
  },
  {
   "cell_type": "code",
   "execution_count": 5,
   "id": "75bef15d",
   "metadata": {},
   "outputs": [],
   "source": [
    "# Função para converter a string em lista de np.array\n",
    "def convert_to_list_of_arrays(val):\n",
    "    # Converte string para uma lista de strings\n",
    "    list_str = ast.literal_eval(val)\n",
    "    # Converte cada item da lista para um array NumPy\n",
    "    return [np.array(item) for item in list_str]\n"
   ]
  },
  {
   "cell_type": "code",
   "execution_count": 6,
   "id": "be8feeb2",
   "metadata": {},
   "outputs": [],
   "source": [
    "# Aplicar ast.literal_eval para converter as strings em listas\n",
    "df_test['all_binarized'] = df_test.all_binarized.apply(convert_to_list_of_arrays)"
   ]
  },
  {
   "cell_type": "code",
   "execution_count": null,
   "id": "4a64801a",
   "metadata": {},
   "outputs": [
    {
     "data": {
      "text/html": [
       "<div>\n",
       "<style scoped>\n",
       "    .dataframe tbody tr th:only-of-type {\n",
       "        vertical-align: middle;\n",
       "    }\n",
       "\n",
       "    .dataframe tbody tr th {\n",
       "        vertical-align: top;\n",
       "    }\n",
       "\n",
       "    .dataframe thead th {\n",
       "        text-align: right;\n",
       "    }\n",
       "</style>\n",
       "<table border=\"1\" class=\"dataframe\">\n",
       "  <thead>\n",
       "    <tr style=\"text-align: right;\">\n",
       "      <th></th>\n",
       "      <th>track_genres_all</th>\n",
       "      <th>track_id</th>\n",
       "      <th>file_path</th>\n",
       "      <th>index</th>\n",
       "      <th>track_genre_top</th>\n",
       "      <th>y_true</th>\n",
       "      <th>level1</th>\n",
       "      <th>level2</th>\n",
       "      <th>level3</th>\n",
       "      <th>level4</th>\n",
       "      <th>all_binarized</th>\n",
       "    </tr>\n",
       "  </thead>\n",
       "  <tbody>\n",
       "    <tr>\n",
       "      <th>0</th>\n",
       "      <td>[66, 12]</td>\n",
       "      <td>33038</td>\n",
       "      <td>/mnt/disks/data/fma/fma_large/033/033038.mp3</td>\n",
       "      <td>21041</td>\n",
       "      <td>Rock</td>\n",
       "      <td>[[12, 66]]</td>\n",
       "      <td>[1, 0]</td>\n",
       "      <td>[0, 0, 0, 0, 0, 0, 0, 0, 1, 0, 0, 0, 0, 0, 0, ...</td>\n",
       "      <td>[0, 0, 0, 0, 0, 0, 0, 0, 0, 0, 0, 0, 0, 0, 0]</td>\n",
       "      <td>[0, 0]</td>\n",
       "      <td>[[1, 0], [0, 0, 0, 0, 0, 0, 0, 0, 1, 0, 0, 0, ...</td>\n",
       "    </tr>\n",
       "    <tr>\n",
       "      <th>1</th>\n",
       "      <td>[183, 286, 15]</td>\n",
       "      <td>98938</td>\n",
       "      <td>/mnt/disks/data/fma/fma_large/098/098938.mp3</td>\n",
       "      <td>66294</td>\n",
       "      <td>Electronic</td>\n",
       "      <td>[[15, 183], [15, 286]]</td>\n",
       "      <td>[0, 1]</td>\n",
       "      <td>[0, 0, 0, 0, 0, 0, 0, 0, 0, 0, 0, 0, 0, 0, 0, ...</td>\n",
       "      <td>[0, 0, 0, 0, 0, 0, 0, 0, 0, 0, 0, 0, 0, 0, 0]</td>\n",
       "      <td>[0, 0]</td>\n",
       "      <td>[[0, 1], [0, 0, 0, 0, 0, 0, 0, 0, 0, 0, 0, 0, ...</td>\n",
       "    </tr>\n",
       "    <tr>\n",
       "      <th>2</th>\n",
       "      <td>[15]</td>\n",
       "      <td>6775</td>\n",
       "      <td>/mnt/disks/data/fma/fma_large/006/006775.mp3</td>\n",
       "      <td>3560</td>\n",
       "      <td>Electronic</td>\n",
       "      <td>[[15]]</td>\n",
       "      <td>[0, 1]</td>\n",
       "      <td>[0, 0, 0, 0, 0, 0, 0, 0, 0, 0, 0, 0, 0, 0, 0, ...</td>\n",
       "      <td>[0, 0, 0, 0, 0, 0, 0, 0, 0, 0, 0, 0, 0, 0, 0]</td>\n",
       "      <td>[0, 0]</td>\n",
       "      <td>[[0, 1], [0, 0, 0, 0, 0, 0, 0, 0, 0, 0, 0, 0, ...</td>\n",
       "    </tr>\n",
       "    <tr>\n",
       "      <th>3</th>\n",
       "      <td>[181, 15]</td>\n",
       "      <td>63354</td>\n",
       "      <td>/mnt/disks/data/fma/fma_large/063/063354.mp3</td>\n",
       "      <td>42675</td>\n",
       "      <td>Electronic</td>\n",
       "      <td>[[15, 181]]</td>\n",
       "      <td>[0, 1]</td>\n",
       "      <td>[0, 0, 0, 0, 0, 0, 0, 0, 0, 0, 0, 0, 0, 1, 0, ...</td>\n",
       "      <td>[0, 0, 0, 0, 0, 0, 0, 0, 0, 0, 0, 0, 0, 0, 0]</td>\n",
       "      <td>[0, 0]</td>\n",
       "      <td>[[0, 1], [0, 0, 0, 0, 0, 0, 0, 0, 0, 0, 0, 0, ...</td>\n",
       "    </tr>\n",
       "    <tr>\n",
       "      <th>4</th>\n",
       "      <td>[25, 12, 109]</td>\n",
       "      <td>67165</td>\n",
       "      <td>/mnt/disks/data/fma/fma_large/067/067165.mp3</td>\n",
       "      <td>45761</td>\n",
       "      <td>Rock</td>\n",
       "      <td>[[12, 25, 109]]</td>\n",
       "      <td>[1, 0]</td>\n",
       "      <td>[1, 0, 0, 0, 0, 0, 0, 0, 0, 0, 0, 0, 0, 0, 0, ...</td>\n",
       "      <td>[0, 0, 0, 0, 0, 1, 0, 0, 0, 0, 0, 0, 0, 0, 0]</td>\n",
       "      <td>[0, 0]</td>\n",
       "      <td>[[1, 0], [1, 0, 0, 0, 0, 0, 0, 0, 0, 0, 0, 0, ...</td>\n",
       "    </tr>\n",
       "    <tr>\n",
       "      <th>...</th>\n",
       "      <td>...</td>\n",
       "      <td>...</td>\n",
       "      <td>...</td>\n",
       "      <td>...</td>\n",
       "      <td>...</td>\n",
       "      <td>...</td>\n",
       "      <td>...</td>\n",
       "      <td>...</td>\n",
       "      <td>...</td>\n",
       "      <td>...</td>\n",
       "      <td>...</td>\n",
       "    </tr>\n",
       "    <tr>\n",
       "      <th>4809</th>\n",
       "      <td>[12]</td>\n",
       "      <td>3751</td>\n",
       "      <td>/mnt/disks/data/fma/fma_large/003/003751.mp3</td>\n",
       "      <td>2052</td>\n",
       "      <td>Rock</td>\n",
       "      <td>[[12]]</td>\n",
       "      <td>[1, 0]</td>\n",
       "      <td>[0, 0, 0, 0, 0, 0, 0, 0, 0, 0, 0, 0, 0, 0, 0, ...</td>\n",
       "      <td>[0, 0, 0, 0, 0, 0, 0, 0, 0, 0, 0, 0, 0, 0, 0]</td>\n",
       "      <td>[0, 0]</td>\n",
       "      <td>[[1, 0], [0, 0, 0, 0, 0, 0, 0, 0, 0, 0, 0, 0, ...</td>\n",
       "    </tr>\n",
       "    <tr>\n",
       "      <th>4810</th>\n",
       "      <td>[183, 495, 15]</td>\n",
       "      <td>99310</td>\n",
       "      <td>/mnt/disks/data/fma/fma_large/099/099310.mp3</td>\n",
       "      <td>66578</td>\n",
       "      <td>Electronic</td>\n",
       "      <td>[[15, 183], [15, 495]]</td>\n",
       "      <td>[0, 1]</td>\n",
       "      <td>[0, 0, 0, 0, 0, 0, 0, 0, 0, 0, 0, 0, 0, 0, 0, ...</td>\n",
       "      <td>[0, 0, 0, 0, 0, 0, 0, 0, 0, 0, 0, 0, 0, 0, 0]</td>\n",
       "      <td>[0, 0]</td>\n",
       "      <td>[[0, 1], [0, 0, 0, 0, 0, 0, 0, 0, 0, 0, 0, 0, ...</td>\n",
       "    </tr>\n",
       "    <tr>\n",
       "      <th>4811</th>\n",
       "      <td>[25, 12, 109, 31]</td>\n",
       "      <td>75793</td>\n",
       "      <td>/mnt/disks/data/fma/fma_large/075/075793.mp3</td>\n",
       "      <td>51944</td>\n",
       "      <td>Rock</td>\n",
       "      <td>[[12, 25, 109]]</td>\n",
       "      <td>[1, 0]</td>\n",
       "      <td>[1, 0, 0, 0, 0, 0, 0, 0, 0, 0, 0, 0, 0, 0, 0, ...</td>\n",
       "      <td>[0, 0, 0, 0, 0, 1, 0, 0, 0, 0, 0, 0, 0, 0, 0]</td>\n",
       "      <td>[0, 0]</td>\n",
       "      <td>[[1, 0], [1, 0, 0, 0, 0, 0, 0, 0, 0, 0, 0, 0, ...</td>\n",
       "    </tr>\n",
       "    <tr>\n",
       "      <th>4812</th>\n",
       "      <td>[27, 12, 359]</td>\n",
       "      <td>51360</td>\n",
       "      <td>/mnt/disks/data/fma/fma_large/051/051360.mp3</td>\n",
       "      <td>33790</td>\n",
       "      <td>Rock</td>\n",
       "      <td>[[12, 27], [12, 359]]</td>\n",
       "      <td>[1, 0]</td>\n",
       "      <td>[0, 0, 1, 0, 0, 0, 0, 0, 0, 0, 0, 0, 0, 0, 0, ...</td>\n",
       "      <td>[0, 0, 0, 0, 0, 0, 0, 0, 0, 0, 0, 0, 0, 0, 0]</td>\n",
       "      <td>[0, 0]</td>\n",
       "      <td>[[1, 0], [0, 0, 1, 0, 0, 0, 0, 0, 0, 0, 0, 0, ...</td>\n",
       "    </tr>\n",
       "    <tr>\n",
       "      <th>4813</th>\n",
       "      <td>[183, 42, 236, 15]</td>\n",
       "      <td>54128</td>\n",
       "      <td>/mnt/disks/data/fma/fma_large/054/054128.mp3</td>\n",
       "      <td>35913</td>\n",
       "      <td>Electronic</td>\n",
       "      <td>[[15, 183], [15, 42], [15, 236]]</td>\n",
       "      <td>[0, 1]</td>\n",
       "      <td>[0, 0, 0, 0, 0, 1, 0, 0, 0, 0, 0, 0, 0, 0, 0, ...</td>\n",
       "      <td>[0, 0, 0, 0, 0, 0, 0, 0, 0, 0, 0, 0, 0, 0, 0]</td>\n",
       "      <td>[0, 0]</td>\n",
       "      <td>[[0, 1], [0, 0, 0, 0, 0, 1, 0, 0, 0, 0, 0, 0, ...</td>\n",
       "    </tr>\n",
       "  </tbody>\n",
       "</table>\n",
       "<p>4814 rows × 11 columns</p>\n",
       "</div>"
      ],
      "text/plain": [
       "        track_genres_all  track_id  \\\n",
       "0               [66, 12]     33038   \n",
       "1         [183, 286, 15]     98938   \n",
       "2                   [15]      6775   \n",
       "3              [181, 15]     63354   \n",
       "4          [25, 12, 109]     67165   \n",
       "...                  ...       ...   \n",
       "4809                [12]      3751   \n",
       "4810      [183, 495, 15]     99310   \n",
       "4811   [25, 12, 109, 31]     75793   \n",
       "4812       [27, 12, 359]     51360   \n",
       "4813  [183, 42, 236, 15]     54128   \n",
       "\n",
       "                                         file_path  index track_genre_top  \\\n",
       "0     /mnt/disks/data/fma/fma_large/033/033038.mp3  21041            Rock   \n",
       "1     /mnt/disks/data/fma/fma_large/098/098938.mp3  66294      Electronic   \n",
       "2     /mnt/disks/data/fma/fma_large/006/006775.mp3   3560      Electronic   \n",
       "3     /mnt/disks/data/fma/fma_large/063/063354.mp3  42675      Electronic   \n",
       "4     /mnt/disks/data/fma/fma_large/067/067165.mp3  45761            Rock   \n",
       "...                                            ...    ...             ...   \n",
       "4809  /mnt/disks/data/fma/fma_large/003/003751.mp3   2052            Rock   \n",
       "4810  /mnt/disks/data/fma/fma_large/099/099310.mp3  66578      Electronic   \n",
       "4811  /mnt/disks/data/fma/fma_large/075/075793.mp3  51944            Rock   \n",
       "4812  /mnt/disks/data/fma/fma_large/051/051360.mp3  33790            Rock   \n",
       "4813  /mnt/disks/data/fma/fma_large/054/054128.mp3  35913      Electronic   \n",
       "\n",
       "                                y_true  level1  \\\n",
       "0                           [[12, 66]]  [1, 0]   \n",
       "1               [[15, 183], [15, 286]]  [0, 1]   \n",
       "2                               [[15]]  [0, 1]   \n",
       "3                          [[15, 181]]  [0, 1]   \n",
       "4                      [[12, 25, 109]]  [1, 0]   \n",
       "...                                ...     ...   \n",
       "4809                            [[12]]  [1, 0]   \n",
       "4810            [[15, 183], [15, 495]]  [0, 1]   \n",
       "4811                   [[12, 25, 109]]  [1, 0]   \n",
       "4812             [[12, 27], [12, 359]]  [1, 0]   \n",
       "4813  [[15, 183], [15, 42], [15, 236]]  [0, 1]   \n",
       "\n",
       "                                                 level2  \\\n",
       "0     [0, 0, 0, 0, 0, 0, 0, 0, 1, 0, 0, 0, 0, 0, 0, ...   \n",
       "1     [0, 0, 0, 0, 0, 0, 0, 0, 0, 0, 0, 0, 0, 0, 0, ...   \n",
       "2     [0, 0, 0, 0, 0, 0, 0, 0, 0, 0, 0, 0, 0, 0, 0, ...   \n",
       "3     [0, 0, 0, 0, 0, 0, 0, 0, 0, 0, 0, 0, 0, 1, 0, ...   \n",
       "4     [1, 0, 0, 0, 0, 0, 0, 0, 0, 0, 0, 0, 0, 0, 0, ...   \n",
       "...                                                 ...   \n",
       "4809  [0, 0, 0, 0, 0, 0, 0, 0, 0, 0, 0, 0, 0, 0, 0, ...   \n",
       "4810  [0, 0, 0, 0, 0, 0, 0, 0, 0, 0, 0, 0, 0, 0, 0, ...   \n",
       "4811  [1, 0, 0, 0, 0, 0, 0, 0, 0, 0, 0, 0, 0, 0, 0, ...   \n",
       "4812  [0, 0, 1, 0, 0, 0, 0, 0, 0, 0, 0, 0, 0, 0, 0, ...   \n",
       "4813  [0, 0, 0, 0, 0, 1, 0, 0, 0, 0, 0, 0, 0, 0, 0, ...   \n",
       "\n",
       "                                             level3  level4  \\\n",
       "0     [0, 0, 0, 0, 0, 0, 0, 0, 0, 0, 0, 0, 0, 0, 0]  [0, 0]   \n",
       "1     [0, 0, 0, 0, 0, 0, 0, 0, 0, 0, 0, 0, 0, 0, 0]  [0, 0]   \n",
       "2     [0, 0, 0, 0, 0, 0, 0, 0, 0, 0, 0, 0, 0, 0, 0]  [0, 0]   \n",
       "3     [0, 0, 0, 0, 0, 0, 0, 0, 0, 0, 0, 0, 0, 0, 0]  [0, 0]   \n",
       "4     [0, 0, 0, 0, 0, 1, 0, 0, 0, 0, 0, 0, 0, 0, 0]  [0, 0]   \n",
       "...                                             ...     ...   \n",
       "4809  [0, 0, 0, 0, 0, 0, 0, 0, 0, 0, 0, 0, 0, 0, 0]  [0, 0]   \n",
       "4810  [0, 0, 0, 0, 0, 0, 0, 0, 0, 0, 0, 0, 0, 0, 0]  [0, 0]   \n",
       "4811  [0, 0, 0, 0, 0, 1, 0, 0, 0, 0, 0, 0, 0, 0, 0]  [0, 0]   \n",
       "4812  [0, 0, 0, 0, 0, 0, 0, 0, 0, 0, 0, 0, 0, 0, 0]  [0, 0]   \n",
       "4813  [0, 0, 0, 0, 0, 0, 0, 0, 0, 0, 0, 0, 0, 0, 0]  [0, 0]   \n",
       "\n",
       "                                          all_binarized  \n",
       "0     [[1, 0], [0, 0, 0, 0, 0, 0, 0, 0, 1, 0, 0, 0, ...  \n",
       "1     [[0, 1], [0, 0, 0, 0, 0, 0, 0, 0, 0, 0, 0, 0, ...  \n",
       "2     [[0, 1], [0, 0, 0, 0, 0, 0, 0, 0, 0, 0, 0, 0, ...  \n",
       "3     [[0, 1], [0, 0, 0, 0, 0, 0, 0, 0, 0, 0, 0, 0, ...  \n",
       "4     [[1, 0], [1, 0, 0, 0, 0, 0, 0, 0, 0, 0, 0, 0, ...  \n",
       "...                                                 ...  \n",
       "4809  [[1, 0], [0, 0, 0, 0, 0, 0, 0, 0, 0, 0, 0, 0, ...  \n",
       "4810  [[0, 1], [0, 0, 0, 0, 0, 0, 0, 0, 0, 0, 0, 0, ...  \n",
       "4811  [[1, 0], [1, 0, 0, 0, 0, 0, 0, 0, 0, 0, 0, 0, ...  \n",
       "4812  [[1, 0], [0, 0, 1, 0, 0, 0, 0, 0, 0, 0, 0, 0, ...  \n",
       "4813  [[0, 1], [0, 0, 0, 0, 0, 1, 0, 0, 0, 0, 0, 0, ...  \n",
       "\n",
       "[4814 rows x 11 columns]"
      ]
     },
     "execution_count": 7,
     "metadata": {},
     "output_type": "execute_result"
    }
   ],
   "source": [
    "df_test"
   ]
  },
  {
   "cell_type": "code",
   "execution_count": 8,
   "id": "4c9e182e",
   "metadata": {},
   "outputs": [
    {
     "data": {
      "text/plain": [
       "'[0, 0, 0, 0, 0, 0, 0, 0, 0, 0, 0, 0, 0, 0, 0, 0, 0, 0, 0, 0, 0, 0, 0, 0, 0, 0, 0, 0, 0]'"
      ]
     },
     "execution_count": 8,
     "metadata": {},
     "output_type": "execute_result"
    }
   ],
   "source": [
    "df_test.level2[4809]"
   ]
  },
  {
   "cell_type": "code",
   "execution_count": null,
   "id": "10c050b7",
   "metadata": {
    "ExecuteTime": {
     "end_time": "2024-09-05T21:56:04.427843Z",
     "start_time": "2024-09-05T21:56:04.361525Z"
    }
   },
   "outputs": [
    {
     "name": "stdout",
     "output_type": "stream",
     "text": [
      "{'sequence_size': 1280, 'max_depth': 4, 'levels_size': [2, 29, 15, 2], 'val_path': '/home/bruno/storage/data/fma/trains/rock_electronic/tfrecrods/val', 'train_path': '/home/bruno/storage/data/fma/trains/rock_electronic/tfrecrods/train', 'test_path': '/home/bruno/storage/data/fma/trains/rock_electronic/tfrecrods/test', 'val_torch_path': '/home/bruno/storage/data/fma/trains/rock_electronic/torch/val', 'train_torch_path': '/home/bruno/storage/data/fma/trains/rock_electronic/torch/train', 'test_torch_path': '/home/bruno/storage/data/fma/trains/rock_electronic/torch/test', 'val_csv': '/home/bruno/storage/data/fma/trains/rock_electronic/val.csv', 'train_csv': '/home/bruno/storage/data/fma/trains/rock_electronic/train.csv', 'test_csv': '/home/bruno/storage/data/fma/trains/rock_electronic/test.csv', 'trainset_count': 19030, 'validationset_count': 2007, 'testset_count': 4814}\n"
     ]
    }
   ],
   "source": [
    "with open(metadata_path, 'r') as f:\n",
    "    metadata = json.loads(f.read())\n",
    "    print(metadata)\n",
    "\n",
    "with open(labels_path, 'r') as f:\n",
    "    labels = json.loads(f.read())\n"
   ]
  },
  {
   "cell_type": "code",
   "execution_count": 10,
   "id": "aed57764",
   "metadata": {
    "ExecuteTime": {
     "end_time": "2024-09-05T21:56:12.400847Z",
     "start_time": "2024-09-05T21:56:12.380763Z"
    }
   },
   "outputs": [],
   "source": [
    "params = {\n",
    "    'levels_size': labels['levels_size'],\n",
    "    'sequence_size': metadata['sequence_size'],\n",
    "    'dropouts': [0.3, 0.3, 0.3, 0.3],\n",
    "    'thresholds': [0.5, 0.3, 0.3, 0.3]\n",
    "}\n"
   ]
  },
  {
   "cell_type": "code",
   "execution_count": 11,
   "id": "6da0f355",
   "metadata": {},
   "outputs": [
    {
     "name": "stderr",
     "output_type": "stream",
     "text": [
      "/tmp/ipykernel_793037/195874492.py:4: FutureWarning: You are using `torch.load` with `weights_only=False` (the current default value), which uses the default pickle module implicitly. It is possible to construct malicious pickle data which will execute arbitrary code during unpickling (See https://github.com/pytorch/pytorch/blob/main/SECURITY.md#untrusted-models for more details). In a future release, the default value for `weights_only` will be flipped to `True`. This limits the functions that could be executed during unpickling. Arbitrary objects will no longer be allowed to be loaded via this mode unless they are explicitly allowlisted by the user via `torch.serialization.add_safe_globals`. We recommend you start setting `weights_only=True` for any use case where you don't have full control of the loaded file. Please open an issue on GitHub for any issues related to this experimental feature.\n",
      "  state_dict = torch.load(model_path)\n"
     ]
    },
    {
     "name": "stdout",
     "output_type": "stream",
     "text": [
      "Chaves do state_dict salvo:\n",
      "odict_keys(['levels.0.fc1.weight', 'levels.0.fc1.bias', 'levels.0.fc2.weight', 'levels.0.fc2.bias', 'levels.1.fc1.weight', 'levels.1.fc1.bias', 'levels.1.fc2.weight', 'levels.1.fc2.bias', 'levels.2.fc1.weight', 'levels.2.fc1.bias', 'levels.2.fc2.weight', 'levels.2.fc2.bias', 'levels.3.fc1.weight', 'levels.3.fc1.bias', 'levels.3.fc2.weight', 'levels.3.fc2.bias'])\n",
      "Chaves do modelo definido:\n",
      "odict_keys(['levels.0.fc1.weight', 'levels.0.fc1.bias', 'levels.0.fc2.weight', 'levels.0.fc2.bias', 'levels.1.fc1.weight', 'levels.1.fc1.bias', 'levels.1.fc2.weight', 'levels.1.fc2.bias', 'levels.2.fc1.weight', 'levels.2.fc1.bias', 'levels.2.fc2.weight', 'levels.2.fc2.bias', 'levels.3.fc1.weight', 'levels.3.fc1.bias', 'levels.3.fc2.weight', 'levels.3.fc2.bias'])\n"
     ]
    },
    {
     "data": {
      "text/plain": [
       "<All keys matched successfully>"
      ]
     },
     "execution_count": 11,
     "metadata": {},
     "output_type": "execute_result"
    }
   ],
   "source": [
    "\n",
    "model = ClassificationModel(**params)\n",
    "\n",
    "# Carregar o state_dict\n",
    "state_dict = torch.load(model_path)\n",
    "\n",
    "# Imprimir as chaves do state_dict\n",
    "print(\"Chaves do state_dict salvo:\")\n",
    "print(state_dict.keys())\n",
    "\n",
    "# Imprimir as chaves do modelo\n",
    "print(\"Chaves do modelo definido:\")\n",
    "print(model.state_dict().keys())\n",
    "\n",
    "#model_load = torch.load(binary_model)\n",
    "model.load_state_dict(state_dict)"
   ]
  },
  {
   "cell_type": "code",
   "execution_count": 12,
   "id": "78f764bb",
   "metadata": {},
   "outputs": [
    {
     "data": {
      "text/plain": [
       "ClassificationModel(\n",
       "  (levels): ModuleList(\n",
       "    (0): BuildClassification(\n",
       "      (fc1): Linear(in_features=1280, out_features=640, bias=True)\n",
       "      (relu1): ReLU()\n",
       "      (dropout1): Dropout(p=0.3, inplace=False)\n",
       "      (fc2): Linear(in_features=640, out_features=2, bias=True)\n",
       "    )\n",
       "    (1): BuildClassification(\n",
       "      (fc1): Linear(in_features=1280, out_features=640, bias=True)\n",
       "      (relu1): ReLU()\n",
       "      (dropout1): Dropout(p=0.3, inplace=False)\n",
       "      (fc2): Linear(in_features=640, out_features=29, bias=True)\n",
       "    )\n",
       "    (2): BuildClassification(\n",
       "      (fc1): Linear(in_features=1280, out_features=640, bias=True)\n",
       "      (relu1): ReLU()\n",
       "      (dropout1): Dropout(p=0.3, inplace=False)\n",
       "      (fc2): Linear(in_features=640, out_features=15, bias=True)\n",
       "    )\n",
       "    (3): BuildClassification(\n",
       "      (fc1): Linear(in_features=1280, out_features=640, bias=True)\n",
       "      (relu1): ReLU()\n",
       "      (dropout1): Dropout(p=0.3, inplace=False)\n",
       "      (fc2): Linear(in_features=640, out_features=2, bias=True)\n",
       "    )\n",
       "  )\n",
       ")"
      ]
     },
     "execution_count": 12,
     "metadata": {},
     "output_type": "execute_result"
    }
   ],
   "source": [
    "model.to('cuda')"
   ]
  },
  {
   "cell_type": "code",
   "execution_count": 13,
   "id": "7d9653c2",
   "metadata": {},
   "outputs": [
    {
     "data": {
      "text/html": [
       "<div>\n",
       "<style scoped>\n",
       "    .dataframe tbody tr th:only-of-type {\n",
       "        vertical-align: middle;\n",
       "    }\n",
       "\n",
       "    .dataframe tbody tr th {\n",
       "        vertical-align: top;\n",
       "    }\n",
       "\n",
       "    .dataframe thead th {\n",
       "        text-align: right;\n",
       "    }\n",
       "</style>\n",
       "<table border=\"1\" class=\"dataframe\">\n",
       "  <thead>\n",
       "    <tr style=\"text-align: right;\">\n",
       "      <th></th>\n",
       "      <th>track_genres_all</th>\n",
       "      <th>track_id</th>\n",
       "      <th>file_path</th>\n",
       "      <th>index</th>\n",
       "      <th>track_genre_top</th>\n",
       "      <th>y_true</th>\n",
       "      <th>level1</th>\n",
       "      <th>level2</th>\n",
       "      <th>level3</th>\n",
       "      <th>level4</th>\n",
       "      <th>all_binarized</th>\n",
       "    </tr>\n",
       "  </thead>\n",
       "  <tbody>\n",
       "    <tr>\n",
       "      <th>0</th>\n",
       "      <td>[66, 12]</td>\n",
       "      <td>33038</td>\n",
       "      <td>/mnt/disks/data/fma/fma_large/033/033038.mp3</td>\n",
       "      <td>21041</td>\n",
       "      <td>Rock</td>\n",
       "      <td>[[12, 66]]</td>\n",
       "      <td>[1, 0]</td>\n",
       "      <td>[0, 0, 0, 0, 0, 0, 0, 0, 1, 0, 0, 0, 0, 0, 0, ...</td>\n",
       "      <td>[0, 0, 0, 0, 0, 0, 0, 0, 0, 0, 0, 0, 0, 0, 0]</td>\n",
       "      <td>[0, 0]</td>\n",
       "      <td>[[1, 0], [0, 0, 0, 0, 0, 0, 0, 0, 1, 0, 0, 0, ...</td>\n",
       "    </tr>\n",
       "    <tr>\n",
       "      <th>1</th>\n",
       "      <td>[183, 286, 15]</td>\n",
       "      <td>98938</td>\n",
       "      <td>/mnt/disks/data/fma/fma_large/098/098938.mp3</td>\n",
       "      <td>66294</td>\n",
       "      <td>Electronic</td>\n",
       "      <td>[[15, 183], [15, 286]]</td>\n",
       "      <td>[0, 1]</td>\n",
       "      <td>[0, 0, 0, 0, 0, 0, 0, 0, 0, 0, 0, 0, 0, 0, 0, ...</td>\n",
       "      <td>[0, 0, 0, 0, 0, 0, 0, 0, 0, 0, 0, 0, 0, 0, 0]</td>\n",
       "      <td>[0, 0]</td>\n",
       "      <td>[[0, 1], [0, 0, 0, 0, 0, 0, 0, 0, 0, 0, 0, 0, ...</td>\n",
       "    </tr>\n",
       "    <tr>\n",
       "      <th>2</th>\n",
       "      <td>[15]</td>\n",
       "      <td>6775</td>\n",
       "      <td>/mnt/disks/data/fma/fma_large/006/006775.mp3</td>\n",
       "      <td>3560</td>\n",
       "      <td>Electronic</td>\n",
       "      <td>[[15]]</td>\n",
       "      <td>[0, 1]</td>\n",
       "      <td>[0, 0, 0, 0, 0, 0, 0, 0, 0, 0, 0, 0, 0, 0, 0, ...</td>\n",
       "      <td>[0, 0, 0, 0, 0, 0, 0, 0, 0, 0, 0, 0, 0, 0, 0]</td>\n",
       "      <td>[0, 0]</td>\n",
       "      <td>[[0, 1], [0, 0, 0, 0, 0, 0, 0, 0, 0, 0, 0, 0, ...</td>\n",
       "    </tr>\n",
       "    <tr>\n",
       "      <th>3</th>\n",
       "      <td>[181, 15]</td>\n",
       "      <td>63354</td>\n",
       "      <td>/mnt/disks/data/fma/fma_large/063/063354.mp3</td>\n",
       "      <td>42675</td>\n",
       "      <td>Electronic</td>\n",
       "      <td>[[15, 181]]</td>\n",
       "      <td>[0, 1]</td>\n",
       "      <td>[0, 0, 0, 0, 0, 0, 0, 0, 0, 0, 0, 0, 0, 1, 0, ...</td>\n",
       "      <td>[0, 0, 0, 0, 0, 0, 0, 0, 0, 0, 0, 0, 0, 0, 0]</td>\n",
       "      <td>[0, 0]</td>\n",
       "      <td>[[0, 1], [0, 0, 0, 0, 0, 0, 0, 0, 0, 0, 0, 0, ...</td>\n",
       "    </tr>\n",
       "    <tr>\n",
       "      <th>4</th>\n",
       "      <td>[25, 12, 109]</td>\n",
       "      <td>67165</td>\n",
       "      <td>/mnt/disks/data/fma/fma_large/067/067165.mp3</td>\n",
       "      <td>45761</td>\n",
       "      <td>Rock</td>\n",
       "      <td>[[12, 25, 109]]</td>\n",
       "      <td>[1, 0]</td>\n",
       "      <td>[1, 0, 0, 0, 0, 0, 0, 0, 0, 0, 0, 0, 0, 0, 0, ...</td>\n",
       "      <td>[0, 0, 0, 0, 0, 1, 0, 0, 0, 0, 0, 0, 0, 0, 0]</td>\n",
       "      <td>[0, 0]</td>\n",
       "      <td>[[1, 0], [1, 0, 0, 0, 0, 0, 0, 0, 0, 0, 0, 0, ...</td>\n",
       "    </tr>\n",
       "    <tr>\n",
       "      <th>...</th>\n",
       "      <td>...</td>\n",
       "      <td>...</td>\n",
       "      <td>...</td>\n",
       "      <td>...</td>\n",
       "      <td>...</td>\n",
       "      <td>...</td>\n",
       "      <td>...</td>\n",
       "      <td>...</td>\n",
       "      <td>...</td>\n",
       "      <td>...</td>\n",
       "      <td>...</td>\n",
       "    </tr>\n",
       "    <tr>\n",
       "      <th>4809</th>\n",
       "      <td>[12]</td>\n",
       "      <td>3751</td>\n",
       "      <td>/mnt/disks/data/fma/fma_large/003/003751.mp3</td>\n",
       "      <td>2052</td>\n",
       "      <td>Rock</td>\n",
       "      <td>[[12]]</td>\n",
       "      <td>[1, 0]</td>\n",
       "      <td>[0, 0, 0, 0, 0, 0, 0, 0, 0, 0, 0, 0, 0, 0, 0, ...</td>\n",
       "      <td>[0, 0, 0, 0, 0, 0, 0, 0, 0, 0, 0, 0, 0, 0, 0]</td>\n",
       "      <td>[0, 0]</td>\n",
       "      <td>[[1, 0], [0, 0, 0, 0, 0, 0, 0, 0, 0, 0, 0, 0, ...</td>\n",
       "    </tr>\n",
       "    <tr>\n",
       "      <th>4810</th>\n",
       "      <td>[183, 495, 15]</td>\n",
       "      <td>99310</td>\n",
       "      <td>/mnt/disks/data/fma/fma_large/099/099310.mp3</td>\n",
       "      <td>66578</td>\n",
       "      <td>Electronic</td>\n",
       "      <td>[[15, 183], [15, 495]]</td>\n",
       "      <td>[0, 1]</td>\n",
       "      <td>[0, 0, 0, 0, 0, 0, 0, 0, 0, 0, 0, 0, 0, 0, 0, ...</td>\n",
       "      <td>[0, 0, 0, 0, 0, 0, 0, 0, 0, 0, 0, 0, 0, 0, 0]</td>\n",
       "      <td>[0, 0]</td>\n",
       "      <td>[[0, 1], [0, 0, 0, 0, 0, 0, 0, 0, 0, 0, 0, 0, ...</td>\n",
       "    </tr>\n",
       "    <tr>\n",
       "      <th>4811</th>\n",
       "      <td>[25, 12, 109, 31]</td>\n",
       "      <td>75793</td>\n",
       "      <td>/mnt/disks/data/fma/fma_large/075/075793.mp3</td>\n",
       "      <td>51944</td>\n",
       "      <td>Rock</td>\n",
       "      <td>[[12, 25, 109]]</td>\n",
       "      <td>[1, 0]</td>\n",
       "      <td>[1, 0, 0, 0, 0, 0, 0, 0, 0, 0, 0, 0, 0, 0, 0, ...</td>\n",
       "      <td>[0, 0, 0, 0, 0, 1, 0, 0, 0, 0, 0, 0, 0, 0, 0]</td>\n",
       "      <td>[0, 0]</td>\n",
       "      <td>[[1, 0], [1, 0, 0, 0, 0, 0, 0, 0, 0, 0, 0, 0, ...</td>\n",
       "    </tr>\n",
       "    <tr>\n",
       "      <th>4812</th>\n",
       "      <td>[27, 12, 359]</td>\n",
       "      <td>51360</td>\n",
       "      <td>/mnt/disks/data/fma/fma_large/051/051360.mp3</td>\n",
       "      <td>33790</td>\n",
       "      <td>Rock</td>\n",
       "      <td>[[12, 27], [12, 359]]</td>\n",
       "      <td>[1, 0]</td>\n",
       "      <td>[0, 0, 1, 0, 0, 0, 0, 0, 0, 0, 0, 0, 0, 0, 0, ...</td>\n",
       "      <td>[0, 0, 0, 0, 0, 0, 0, 0, 0, 0, 0, 0, 0, 0, 0]</td>\n",
       "      <td>[0, 0]</td>\n",
       "      <td>[[1, 0], [0, 0, 1, 0, 0, 0, 0, 0, 0, 0, 0, 0, ...</td>\n",
       "    </tr>\n",
       "    <tr>\n",
       "      <th>4813</th>\n",
       "      <td>[183, 42, 236, 15]</td>\n",
       "      <td>54128</td>\n",
       "      <td>/mnt/disks/data/fma/fma_large/054/054128.mp3</td>\n",
       "      <td>35913</td>\n",
       "      <td>Electronic</td>\n",
       "      <td>[[15, 183], [15, 42], [15, 236]]</td>\n",
       "      <td>[0, 1]</td>\n",
       "      <td>[0, 0, 0, 0, 0, 1, 0, 0, 0, 0, 0, 0, 0, 0, 0, ...</td>\n",
       "      <td>[0, 0, 0, 0, 0, 0, 0, 0, 0, 0, 0, 0, 0, 0, 0]</td>\n",
       "      <td>[0, 0]</td>\n",
       "      <td>[[0, 1], [0, 0, 0, 0, 0, 1, 0, 0, 0, 0, 0, 0, ...</td>\n",
       "    </tr>\n",
       "  </tbody>\n",
       "</table>\n",
       "<p>4814 rows × 11 columns</p>\n",
       "</div>"
      ],
      "text/plain": [
       "        track_genres_all  track_id  \\\n",
       "0               [66, 12]     33038   \n",
       "1         [183, 286, 15]     98938   \n",
       "2                   [15]      6775   \n",
       "3              [181, 15]     63354   \n",
       "4          [25, 12, 109]     67165   \n",
       "...                  ...       ...   \n",
       "4809                [12]      3751   \n",
       "4810      [183, 495, 15]     99310   \n",
       "4811   [25, 12, 109, 31]     75793   \n",
       "4812       [27, 12, 359]     51360   \n",
       "4813  [183, 42, 236, 15]     54128   \n",
       "\n",
       "                                         file_path  index track_genre_top  \\\n",
       "0     /mnt/disks/data/fma/fma_large/033/033038.mp3  21041            Rock   \n",
       "1     /mnt/disks/data/fma/fma_large/098/098938.mp3  66294      Electronic   \n",
       "2     /mnt/disks/data/fma/fma_large/006/006775.mp3   3560      Electronic   \n",
       "3     /mnt/disks/data/fma/fma_large/063/063354.mp3  42675      Electronic   \n",
       "4     /mnt/disks/data/fma/fma_large/067/067165.mp3  45761            Rock   \n",
       "...                                            ...    ...             ...   \n",
       "4809  /mnt/disks/data/fma/fma_large/003/003751.mp3   2052            Rock   \n",
       "4810  /mnt/disks/data/fma/fma_large/099/099310.mp3  66578      Electronic   \n",
       "4811  /mnt/disks/data/fma/fma_large/075/075793.mp3  51944            Rock   \n",
       "4812  /mnt/disks/data/fma/fma_large/051/051360.mp3  33790            Rock   \n",
       "4813  /mnt/disks/data/fma/fma_large/054/054128.mp3  35913      Electronic   \n",
       "\n",
       "                                y_true  level1  \\\n",
       "0                           [[12, 66]]  [1, 0]   \n",
       "1               [[15, 183], [15, 286]]  [0, 1]   \n",
       "2                               [[15]]  [0, 1]   \n",
       "3                          [[15, 181]]  [0, 1]   \n",
       "4                      [[12, 25, 109]]  [1, 0]   \n",
       "...                                ...     ...   \n",
       "4809                            [[12]]  [1, 0]   \n",
       "4810            [[15, 183], [15, 495]]  [0, 1]   \n",
       "4811                   [[12, 25, 109]]  [1, 0]   \n",
       "4812             [[12, 27], [12, 359]]  [1, 0]   \n",
       "4813  [[15, 183], [15, 42], [15, 236]]  [0, 1]   \n",
       "\n",
       "                                                 level2  \\\n",
       "0     [0, 0, 0, 0, 0, 0, 0, 0, 1, 0, 0, 0, 0, 0, 0, ...   \n",
       "1     [0, 0, 0, 0, 0, 0, 0, 0, 0, 0, 0, 0, 0, 0, 0, ...   \n",
       "2     [0, 0, 0, 0, 0, 0, 0, 0, 0, 0, 0, 0, 0, 0, 0, ...   \n",
       "3     [0, 0, 0, 0, 0, 0, 0, 0, 0, 0, 0, 0, 0, 1, 0, ...   \n",
       "4     [1, 0, 0, 0, 0, 0, 0, 0, 0, 0, 0, 0, 0, 0, 0, ...   \n",
       "...                                                 ...   \n",
       "4809  [0, 0, 0, 0, 0, 0, 0, 0, 0, 0, 0, 0, 0, 0, 0, ...   \n",
       "4810  [0, 0, 0, 0, 0, 0, 0, 0, 0, 0, 0, 0, 0, 0, 0, ...   \n",
       "4811  [1, 0, 0, 0, 0, 0, 0, 0, 0, 0, 0, 0, 0, 0, 0, ...   \n",
       "4812  [0, 0, 1, 0, 0, 0, 0, 0, 0, 0, 0, 0, 0, 0, 0, ...   \n",
       "4813  [0, 0, 0, 0, 0, 1, 0, 0, 0, 0, 0, 0, 0, 0, 0, ...   \n",
       "\n",
       "                                             level3  level4  \\\n",
       "0     [0, 0, 0, 0, 0, 0, 0, 0, 0, 0, 0, 0, 0, 0, 0]  [0, 0]   \n",
       "1     [0, 0, 0, 0, 0, 0, 0, 0, 0, 0, 0, 0, 0, 0, 0]  [0, 0]   \n",
       "2     [0, 0, 0, 0, 0, 0, 0, 0, 0, 0, 0, 0, 0, 0, 0]  [0, 0]   \n",
       "3     [0, 0, 0, 0, 0, 0, 0, 0, 0, 0, 0, 0, 0, 0, 0]  [0, 0]   \n",
       "4     [0, 0, 0, 0, 0, 1, 0, 0, 0, 0, 0, 0, 0, 0, 0]  [0, 0]   \n",
       "...                                             ...     ...   \n",
       "4809  [0, 0, 0, 0, 0, 0, 0, 0, 0, 0, 0, 0, 0, 0, 0]  [0, 0]   \n",
       "4810  [0, 0, 0, 0, 0, 0, 0, 0, 0, 0, 0, 0, 0, 0, 0]  [0, 0]   \n",
       "4811  [0, 0, 0, 0, 0, 1, 0, 0, 0, 0, 0, 0, 0, 0, 0]  [0, 0]   \n",
       "4812  [0, 0, 0, 0, 0, 0, 0, 0, 0, 0, 0, 0, 0, 0, 0]  [0, 0]   \n",
       "4813  [0, 0, 0, 0, 0, 0, 0, 0, 0, 0, 0, 0, 0, 0, 0]  [0, 0]   \n",
       "\n",
       "                                          all_binarized  \n",
       "0     [[1, 0], [0, 0, 0, 0, 0, 0, 0, 0, 1, 0, 0, 0, ...  \n",
       "1     [[0, 1], [0, 0, 0, 0, 0, 0, 0, 0, 0, 0, 0, 0, ...  \n",
       "2     [[0, 1], [0, 0, 0, 0, 0, 0, 0, 0, 0, 0, 0, 0, ...  \n",
       "3     [[0, 1], [0, 0, 0, 0, 0, 0, 0, 0, 0, 0, 0, 0, ...  \n",
       "4     [[1, 0], [1, 0, 0, 0, 0, 0, 0, 0, 0, 0, 0, 0, ...  \n",
       "...                                                 ...  \n",
       "4809  [[1, 0], [0, 0, 0, 0, 0, 0, 0, 0, 0, 0, 0, 0, ...  \n",
       "4810  [[0, 1], [0, 0, 0, 0, 0, 0, 0, 0, 0, 0, 0, 0, ...  \n",
       "4811  [[1, 0], [1, 0, 0, 0, 0, 0, 0, 0, 0, 0, 0, 0, ...  \n",
       "4812  [[1, 0], [0, 0, 1, 0, 0, 0, 0, 0, 0, 0, 0, 0, ...  \n",
       "4813  [[0, 1], [0, 0, 0, 0, 0, 1, 0, 0, 0, 0, 0, 0, ...  \n",
       "\n",
       "[4814 rows x 11 columns]"
      ]
     },
     "execution_count": 13,
     "metadata": {},
     "output_type": "execute_result"
    }
   ],
   "source": [
    "df_test"
   ]
  },
  {
   "cell_type": "code",
   "execution_count": 14,
   "id": "63db1c8d",
   "metadata": {},
   "outputs": [
    {
     "name": "stdout",
     "output_type": "stream",
     "text": [
      "[<built-in function id>] Predict started at 21:03:11\n",
      ".......................................\n",
      ".......................................\n",
      "[<built-in function id>] Predict finished at 21:03:12 / elapsed time 0.302548s\n"
     ]
    }
   ],
   "source": [
    "# %%\n",
    "# Salvar os argumentos atuais\n",
    "time_start = dt.now(UTC)\n",
    "print(\"[{}] Predict started at {}\".format(id, time_start.strftime(\"%H:%M:%S\")))\n",
    "print(\".......................................\")\n",
    "\n",
    "track_id, predict = model.predict(base_path, batch_size=64)\n",
    "\n",
    "time_end = dt.now(UTC)\n",
    "time_elapsed = time_end - time_start\n",
    "print(\".......................................\")\n",
    "print(\"[{}] Predict finished at {} / elapsed time {}s\".format(id, time_end.strftime(\"%H:%M:%S\"), time_elapsed.total_seconds()))"
   ]
  },
  {
   "cell_type": "code",
   "execution_count": 15,
   "id": "4171893e",
   "metadata": {},
   "outputs": [
    {
     "data": {
      "text/plain": [
       "'[1, 0]'"
      ]
     },
     "execution_count": 15,
     "metadata": {},
     "output_type": "execute_result"
    }
   ],
   "source": [
    "df_test.level1[0]"
   ]
  },
  {
   "cell_type": "code",
   "execution_count": 18,
   "id": "265a1eba",
   "metadata": {},
   "outputs": [
    {
     "data": {
      "text/plain": [
       "tensor([ 2.6344, -2.6541], device='cuda:0')"
      ]
     },
     "execution_count": 18,
     "metadata": {},
     "output_type": "execute_result"
    }
   ],
   "source": [
    "predict['level1'][0].argmax()"
   ]
  },
  {
   "cell_type": "code",
   "execution_count": 17,
   "id": "65cc48d3",
   "metadata": {},
   "outputs": [
    {
     "data": {
      "text/plain": [
       "4"
      ]
     },
     "execution_count": 17,
     "metadata": {},
     "output_type": "execute_result"
    }
   ],
   "source": [
    "len(predict)"
   ]
  },
  {
   "cell_type": "code",
   "execution_count": 36,
   "id": "f1d53e52",
   "metadata": {},
   "outputs": [],
   "source": [
    "examples_pred = []\n",
    "levels_pred = {}\n",
    "for level, pred in enumerate(predict, start=1):\n",
    "    level_name = f'level{level}'\n",
    "    levels_pred[level_name] = pred"
   ]
  },
  {
   "cell_type": "code",
   "execution_count": 37,
   "id": "a2c1370a",
   "metadata": {},
   "outputs": [
    {
     "data": {
      "text/plain": [
       "'level2'"
      ]
     },
     "execution_count": 37,
     "metadata": {},
     "output_type": "execute_result"
    }
   ],
   "source": [
    "levels_pred['level2']"
   ]
  },
  {
   "cell_type": "code",
   "execution_count": null,
   "id": "7c636b89",
   "metadata": {},
   "outputs": [],
   "source": []
  }
 ],
 "metadata": {
  "kernelspec": {
   "display_name": "hmc-Dk4O7H_f-py3.12",
   "language": "python",
   "name": "python3"
  },
  "language_info": {
   "codemirror_mode": {
    "name": "ipython",
    "version": 3
   },
   "file_extension": ".py",
   "mimetype": "text/x-python",
   "name": "python",
   "nbconvert_exporter": "python",
   "pygments_lexer": "ipython3",
   "version": "3.12.5"
  }
 },
 "nbformat": 4,
 "nbformat_minor": 5
}
