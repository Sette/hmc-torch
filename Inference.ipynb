{
 "cells": [
  {
   "cell_type": "code",
   "execution_count": 2,
   "id": "09d4c409-2a44-4d14-9ccd-e34adf054d7d",
   "metadata": {},
   "outputs": [],
   "source": [
    "# %%\n",
    "import os\n",
    "import json\n",
    "import torch\n",
    "from datetime import UTC\n",
    "from datetime import datetime as dt\n",
    "\n",
    "from hmc.model import ClassificationModel\n",
    "from hmc.utils.dir import create_dir, create_job_id\n",
    "from hmc.model.train import run\n"
   ]
  },
  {
   "cell_type": "code",
   "execution_count": 7,
   "id": "c217b240-324a-4e20-ac59-3d7d88671c2e",
   "metadata": {},
   "outputs": [],
   "source": [
    "base_path = \"/home/bruno/storage/data/fma/trains\"\n",
    "model_path = '/home/bruno/storage/data/fma/trains/rock_electronic/20240830_194923/best_binary.pth'\n",
    "sample_id = \"rock_electronic\"\n",
    "\n",
    "train_path = os.path.join(base_path, sample_id)\n",
    "torch_path = os.path.join(train_path, 'torch')\n",
    "metadata_path = os.path.join(train_path,\"metadata.json\")\n",
    "labels_path = os.path.join(train_path,\"labels.json\")\n",
    "testset_path = os.path.join(torch_path, 'test')\n"
   ]
  },
  {
   "cell_type": "code",
   "execution_count": 8,
   "id": "10c050b7",
   "metadata": {},
   "outputs": [
    {
     "ename": "FileNotFoundError",
     "evalue": "[Errno 2] No such file or directory: '/home/bruno/storage/data/fma/trains/rock_electronic/metadata.json'",
     "output_type": "error",
     "traceback": [
      "\u001b[0;31m---------------------------------------------------------------------------\u001b[0m",
      "\u001b[0;31mFileNotFoundError\u001b[0m                         Traceback (most recent call last)",
      "Cell \u001b[0;32mIn[8], line 1\u001b[0m\n\u001b[0;32m----> 1\u001b[0m \u001b[38;5;28;01mwith\u001b[39;00m \u001b[38;5;28;43mopen\u001b[39;49m\u001b[43m(\u001b[49m\u001b[43mmetadata_path\u001b[49m\u001b[43m,\u001b[49m\u001b[43m \u001b[49m\u001b[38;5;124;43m'\u001b[39;49m\u001b[38;5;124;43mr\u001b[39;49m\u001b[38;5;124;43m'\u001b[39;49m\u001b[43m)\u001b[49m \u001b[38;5;28;01mas\u001b[39;00m f:\n\u001b[1;32m      2\u001b[0m     metadata \u001b[38;5;241m=\u001b[39m json\u001b[38;5;241m.\u001b[39mloads(f\u001b[38;5;241m.\u001b[39mread())\n\u001b[1;32m      3\u001b[0m     \u001b[38;5;28mprint\u001b[39m(metadata)\n",
      "File \u001b[0;32m~/.cache/pypoetry/virtualenvs/hmc-Dk4O7H_f-py3.12/lib/python3.12/site-packages/IPython/core/interactiveshell.py:324\u001b[0m, in \u001b[0;36m_modified_open\u001b[0;34m(file, *args, **kwargs)\u001b[0m\n\u001b[1;32m    317\u001b[0m \u001b[38;5;28;01mif\u001b[39;00m file \u001b[38;5;129;01min\u001b[39;00m {\u001b[38;5;241m0\u001b[39m, \u001b[38;5;241m1\u001b[39m, \u001b[38;5;241m2\u001b[39m}:\n\u001b[1;32m    318\u001b[0m     \u001b[38;5;28;01mraise\u001b[39;00m \u001b[38;5;167;01mValueError\u001b[39;00m(\n\u001b[1;32m    319\u001b[0m         \u001b[38;5;124mf\u001b[39m\u001b[38;5;124m\"\u001b[39m\u001b[38;5;124mIPython won\u001b[39m\u001b[38;5;124m'\u001b[39m\u001b[38;5;124mt let you open fd=\u001b[39m\u001b[38;5;132;01m{\u001b[39;00mfile\u001b[38;5;132;01m}\u001b[39;00m\u001b[38;5;124m by default \u001b[39m\u001b[38;5;124m\"\u001b[39m\n\u001b[1;32m    320\u001b[0m         \u001b[38;5;124m\"\u001b[39m\u001b[38;5;124mas it is likely to crash IPython. If you know what you are doing, \u001b[39m\u001b[38;5;124m\"\u001b[39m\n\u001b[1;32m    321\u001b[0m         \u001b[38;5;124m\"\u001b[39m\u001b[38;5;124myou can use builtins\u001b[39m\u001b[38;5;124m'\u001b[39m\u001b[38;5;124m open.\u001b[39m\u001b[38;5;124m\"\u001b[39m\n\u001b[1;32m    322\u001b[0m     )\n\u001b[0;32m--> 324\u001b[0m \u001b[38;5;28;01mreturn\u001b[39;00m \u001b[43mio_open\u001b[49m\u001b[43m(\u001b[49m\u001b[43mfile\u001b[49m\u001b[43m,\u001b[49m\u001b[43m \u001b[49m\u001b[38;5;241;43m*\u001b[39;49m\u001b[43margs\u001b[49m\u001b[43m,\u001b[49m\u001b[43m \u001b[49m\u001b[38;5;241;43m*\u001b[39;49m\u001b[38;5;241;43m*\u001b[39;49m\u001b[43mkwargs\u001b[49m\u001b[43m)\u001b[49m\n",
      "\u001b[0;31mFileNotFoundError\u001b[0m: [Errno 2] No such file or directory: '/home/bruno/storage/data/fma/trains/rock_electronic/metadata.json'"
     ]
    }
   ],
   "source": [
    "\n",
    "with open(metadata_path, 'r') as f:\n",
    "    metadata = json.loads(f.read())\n",
    "    print(metadata)\n",
    "\n",
    "with open(labels_path, 'r') as f:\n",
    "    labels = json.loads(f.read())\n"
   ]
  },
  {
   "cell_type": "code",
   "execution_count": null,
   "id": "aed57764",
   "metadata": {},
   "outputs": [],
   "source": [
    "params = {\n",
    "    'levels_size': labels['levels_size'],\n",
    "    'sequence_size': metadata['sequence_size'],\n",
    "    'dropouts': [0.3, 0.7, 0.7, 0.3]\n",
    "}\n"
   ]
  },
  {
   "cell_type": "code",
   "execution_count": null,
   "id": "6da0f355",
   "metadata": {},
   "outputs": [],
   "source": [
    "\n",
    "model = ClassificationModel(**params)\n",
    "\n",
    "# Carregar o state_dict\n",
    "state_dict = torch.load(model_path)\n",
    "\n",
    "# Imprimir as chaves do state_dict\n",
    "print(\"Chaves do state_dict salvo:\")\n",
    "print(state_dict.keys())\n",
    "\n",
    "# Imprimir as chaves do modelo\n",
    "print(\"Chaves do modelo definido:\")\n",
    "print(model.state_dict().keys())\n",
    "\n",
    "#model_load = torch.load(binary_model)\n",
    "model.load_state_dict(state_dict)\n",
    "\n",
    "\n",
    "# %%\n",
    "# Salvar os argumentos atuais\n",
    "time_start = dt.now(UTC)\n",
    "print(\"[{}] Predict started at {}\".format(id, time_start.strftime(\"%H:%M:%S\")))\n",
    "print(\".......................................\")\n",
    "\n",
    "predict = model.predict(testset_path=testset_path,batch_size=64)\n",
    "\n",
    "\n",
    "time_end = dt.now(UTC)\n",
    "time_elapsed = time_end - time_start\n",
    "print(\".......................................\")\n",
    "print(\"[{}] Predict finished at {} / elapsed time {}s\".format(id, time_end.strftime(\"%H:%M:%S\"), time_elapsed.total_seconds()))\n",
    "\n"
   ]
  }
 ],
 "metadata": {
  "kernelspec": {
   "display_name": "Python 3 (ipykernel)",
   "language": "python",
   "name": "python3"
  },
  "language_info": {
   "codemirror_mode": {
    "name": "ipython",
    "version": 3
   },
   "file_extension": ".py",
   "mimetype": "text/x-python",
   "name": "python",
   "nbconvert_exporter": "python",
   "pygments_lexer": "ipython3",
   "version": "3.12.5"
  }
 },
 "nbformat": 4,
 "nbformat_minor": 5
}
