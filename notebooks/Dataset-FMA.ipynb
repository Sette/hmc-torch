{
 "cells": [
  {
   "cell_type": "markdown",
   "id": "72297d63-738f-4af6-bb57-93cbf1e5889a",
   "metadata": {},
   "source": [
    "## Load dataset\n"
   ]
  },
  {
   "cell_type": "code",
   "execution_count": 12,
   "id": "74b48b26-4fcd-45d9-ae26-db61f6ce5ae6",
   "metadata": {
    "ExecuteTime": {
     "end_time": "2024-05-12T19:37:14.457148Z",
     "start_time": "2024-05-12T19:37:12.677464Z"
    }
   },
   "outputs": [],
   "source": [
    "import torch\n",
    "import pandas as pd\n",
    "from hmc.dataset import HMCDataset\n",
    "from torch.utils.data import Dataset, DataLoader"
   ]
  },
  {
   "cell_type": "code",
   "execution_count": 2,
   "id": "9042109d-07a8-4aae-8e70-c7ae61d0783c",
   "metadata": {
    "ExecuteTime": {
     "end_time": "2024-05-12T19:37:14.461766Z",
     "start_time": "2024-05-12T19:37:14.458499Z"
    }
   },
   "outputs": [],
   "source": [
    "from hmc.utils import __load_json__"
   ]
  },
  {
   "cell_type": "code",
   "execution_count": 3,
   "id": "19aef345-b3aa-4142-97c6-c7f680a6f5b0",
   "metadata": {
    "ExecuteTime": {
     "end_time": "2024-05-12T19:37:14.525397Z",
     "start_time": "2024-05-12T19:37:14.521212Z"
    }
   },
   "outputs": [],
   "source": [
    "import os\n",
    "import json"
   ]
  },
  {
   "cell_type": "code",
   "execution_count": 4,
   "id": "151b79d6-9482-4b2b-a23c-3dcb3fe26471",
   "metadata": {
    "ExecuteTime": {
     "end_time": "2024-05-12T19:28:21.442951Z",
     "start_time": "2024-05-12T19:28:21.436408Z"
    }
   },
   "outputs": [],
   "source": [
    "base_path = \"/mnt/disks/data/fma/trains\"\n",
    "id = \"hierarchical_tworoots\"\n",
    "\n",
    "train_path = os.path.join(base_path,id)\n",
    "metadata_path = os.path.join(train_path,'metadata.json')\n",
    "labels_path = os.path.join(train_path,'labels.json')\n",
    "torch_path =os.path.join(train_path,'torch')"
   ]
  },
  {
   "cell_type": "code",
   "execution_count": 5,
   "id": "f68abf8d-b1bb-4b1c-84c7-fd1f3f7f5b36",
   "metadata": {
    "ExecuteTime": {
     "end_time": "2024-05-12T19:28:21.790796Z",
     "start_time": "2024-05-12T19:28:21.785311Z"
    }
   },
   "outputs": [],
   "source": [
    "metadata = __load_json__(metadata_path)"
   ]
  },
  {
   "cell_type": "code",
   "execution_count": 6,
   "id": "74ec40e8-7862-4e82-8fcb-8770c23fc2ff",
   "metadata": {},
   "outputs": [],
   "source": [
    "labels = __load_json__(labels_path)"
   ]
  },
  {
   "cell_type": "code",
   "execution_count": 7,
   "id": "f1cc6283-1225-4ac7-9082-53dbaa63d5e4",
   "metadata": {
    "ExecuteTime": {
     "end_time": "2024-05-12T19:28:22.216240Z",
     "start_time": "2024-05-12T19:28:22.205863Z"
    }
   },
   "outputs": [
    {
     "data": {
      "text/plain": [
       "4"
      ]
     },
     "execution_count": 7,
     "metadata": {},
     "output_type": "execute_result"
    }
   ],
   "source": [
    "metadata['max_depth']"
   ]
  },
  {
   "cell_type": "code",
   "execution_count": 8,
   "id": "a319f635-f296-4272-bb49-2634cce20475",
   "metadata": {},
   "outputs": [],
   "source": [
    "#df_val = pd.read_csv(metadata['val_csv'])"
   ]
  },
  {
   "cell_type": "code",
   "execution_count": 9,
   "id": "6353b4d8-bfa2-4afe-9a3f-0f5280c8e470",
   "metadata": {},
   "outputs": [],
   "source": [
    "#df_val"
   ]
  },
  {
   "cell_type": "code",
   "execution_count": null,
   "id": "cd3bc06c",
   "metadata": {},
   "outputs": [],
   "source": [
    "BUFFER_SIZE = 10\n",
    "\n",
    "class HMCDataset(Dataset):\n",
    "    def __init__(self, files,levels_size):\n",
    "        self.files = files\n",
    "        self.levels_size = levels_size\n",
    "        self.data = self.load_data()\n",
    "\n",
    "    def load_data(self):\n",
    "        # Carregar dados a partir dos arquivos e retornar uma lista de exemplos\n",
    "        data = []\n",
    "        for file in os.listdir(self.files):\n",
    "            file_path = os.path.join(self.files, file)\n",
    "            data.extend(torch.load(file_path))\n",
    "        return data\n",
    "\n",
    "    def __len__(self):\n",
    "        return len(self.data)\n",
    "\n",
    "    def __getitem__(self, idx):\n",
    "        example = self.data[idx]\n",
    "        features = torch.tensor(example['features'], dtype=torch.float32)\n",
    "        #track_id = example['track_id']\n",
    "        #labels = {f'level{level}': torch.tensor(example[f'level{level}'], dtype=torch.float32)\n",
    "        #          for level in range(1, len(self.levels_size) + 1)}\n",
    "        labels = [torch.tensor(np.array(example[f'level{level}']), dtype=torch.float32)\n",
    "                  for level in range(1, len(self.levels_size) + 1)]\n",
    "        return  features, labels\n"
   ]
  },
  {
   "cell_type": "code",
   "execution_count": 10,
   "id": "ead69837",
   "metadata": {},
   "outputs": [
    {
     "data": {
      "text/plain": [
       "[2, 29, 15, 2]"
      ]
     },
     "execution_count": 10,
     "metadata": {},
     "output_type": "execute_result"
    }
   ],
   "source": [
    "metadata['levels_size']"
   ]
  },
  {
   "cell_type": "code",
   "execution_count": 22,
   "id": "b566f90b-9f4a-448a-8939-4e653381031f",
   "metadata": {},
   "outputs": [],
   "source": [
    "import sys\n",
    "import types\n",
    "\n",
    "# Create a dummy dataset module with dataset_torch submodule\n",
    "dataset = types.ModuleType('dataset')\n",
    "dataset_torch = types.ModuleType('dataset_torch')\n",
    "dataset.dataset_torch = dataset_torch\n",
    "sys.modules['dataset'] = dataset\n",
    "sys.modules['dataset.dataset_torch'] = dataset_torch\n",
    "\n",
    "\n",
    "dataset_torch.MusicDataset = HMCDataset\n",
    "sys.modules['dataset_torch'] = dataset_torch\n",
    "\n",
    "\n",
    "# Carregar o dataset salvo\n",
    "loaded_dataset = HMCDataset(metadata['train_torch_path'], levels_size=metadata['levels_size'])\n",
    "\n",
    "# Criação do DataLoader\n",
    "ds_validation = DataLoader(loaded_dataset, batch_size=64, shuffle=True)\n"
   ]
  },
  {
   "cell_type": "code",
   "execution_count": 23,
   "id": "f96bcc7e-3929-42cd-b67b-e662766590e4",
   "metadata": {},
   "outputs": [
    {
     "data": {
      "text/plain": [
       "18209"
      ]
     },
     "execution_count": 23,
     "metadata": {},
     "output_type": "execute_result"
    }
   ],
   "source": [
    "len(loaded_dataset)"
   ]
  },
  {
   "cell_type": "code",
   "execution_count": 25,
   "id": "e9e1ebb0",
   "metadata": {},
   "outputs": [
    {
     "name": "stdout",
     "output_type": "stream",
     "text": [
      "tensor([[0., 1.],\n",
      "        [1., 0.],\n",
      "        [0., 1.],\n",
      "        [1., 0.],\n",
      "        [0., 1.],\n",
      "        [0., 1.],\n",
      "        [1., 0.],\n",
      "        [1., 0.],\n",
      "        [0., 1.],\n",
      "        [1., 0.],\n",
      "        [1., 0.],\n",
      "        [1., 0.],\n",
      "        [0., 1.],\n",
      "        [1., 0.],\n",
      "        [1., 0.],\n",
      "        [0., 1.],\n",
      "        [1., 0.],\n",
      "        [0., 1.],\n",
      "        [0., 1.],\n",
      "        [0., 1.],\n",
      "        [0., 1.],\n",
      "        [0., 1.],\n",
      "        [1., 0.],\n",
      "        [1., 0.],\n",
      "        [0., 1.],\n",
      "        [1., 0.],\n",
      "        [0., 1.],\n",
      "        [1., 0.],\n",
      "        [1., 0.],\n",
      "        [0., 1.],\n",
      "        [1., 0.],\n",
      "        [1., 0.],\n",
      "        [1., 0.],\n",
      "        [1., 0.],\n",
      "        [1., 0.],\n",
      "        [0., 1.],\n",
      "        [1., 0.],\n",
      "        [1., 0.],\n",
      "        [0., 1.],\n",
      "        [1., 0.],\n",
      "        [1., 0.],\n",
      "        [1., 0.],\n",
      "        [1., 0.],\n",
      "        [0., 1.],\n",
      "        [1., 0.],\n",
      "        [1., 0.],\n",
      "        [0., 1.],\n",
      "        [0., 1.],\n",
      "        [0., 1.],\n",
      "        [1., 0.],\n",
      "        [1., 0.],\n",
      "        [1., 0.],\n",
      "        [1., 0.],\n",
      "        [0., 1.],\n",
      "        [1., 0.],\n",
      "        [1., 0.],\n",
      "        [0., 1.],\n",
      "        [1., 0.],\n",
      "        [1., 0.],\n",
      "        [0., 1.],\n",
      "        [0., 1.],\n",
      "        [0., 1.],\n",
      "        [0., 1.],\n",
      "        [1., 0.]])\n"
     ]
    }
   ],
   "source": [
    "for inputs, labels in ds_validation:\n",
    "    print(labels[0])\n",
    "    break"
   ]
  },
  {
   "cell_type": "code",
   "execution_count": 18,
   "id": "316f96ba-927c-4942-86ed-3b6893938672",
   "metadata": {},
   "outputs": [],
   "source": [
    "#ds_train = Dataset(trainset_pattern, 10, 32, depth=metadata['max_depth']).build(df=True)"
   ]
  },
  {
   "cell_type": "code",
   "execution_count": 28,
   "id": "1c2fc7c8",
   "metadata": {},
   "outputs": [],
   "source": [
    "val_dataset_array = next(iter(ds_validation))[0].numpy()"
   ]
  },
  {
   "cell_type": "code",
   "execution_count": 29,
   "id": "abd5f08f",
   "metadata": {},
   "outputs": [
    {
     "data": {
      "text/plain": [
       "array([[-0.05795394, -0.03638636,  0.22502355, ...,  0.01868322,\n",
       "         0.16242169,  0.0790742 ],\n",
       "       [-0.01704843,  0.01406341,  0.00475705, ..., -0.00316535,\n",
       "         0.19925644,  0.01645163],\n",
       "       [-0.01152799, -0.05991222, -0.03120563, ...,  0.0007601 ,\n",
       "        -0.04211006, -0.02922575],\n",
       "       ...,\n",
       "       [ 0.00217863,  0.01848902, -0.03141269, ...,  0.00428359,\n",
       "         0.07604198, -0.00207548],\n",
       "       [ 0.50329274,  0.05604462,  0.04162657, ..., -0.01690188,\n",
       "        -0.01881945, -0.04627268],\n",
       "       [ 0.05001318, -0.03526527,  0.02279306, ...,  0.01409413,\n",
       "        -0.01773393,  0.00630476]], dtype=float32)"
      ]
     },
     "execution_count": 29,
     "metadata": {},
     "output_type": "execute_result"
    }
   ],
   "source": [
    "val_dataset_array"
   ]
  }
 ],
 "metadata": {
  "kernelspec": {
   "display_name": "Python 3 (ipykernel)",
   "language": "python",
   "name": "python3"
  },
  "language_info": {
   "codemirror_mode": {
    "name": "ipython",
    "version": 3
   },
   "file_extension": ".py",
   "mimetype": "text/x-python",
   "name": "python",
   "nbconvert_exporter": "python",
   "pygments_lexer": "ipython3",
   "version": "3.11.9"
  }
 },
 "nbformat": 4,
 "nbformat_minor": 5
}
