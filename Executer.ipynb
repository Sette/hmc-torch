{
 "cells": [
  {
   "cell_type": "code",
   "execution_count": 1,
   "id": "4352ec60",
   "metadata": {},
   "outputs": [],
   "source": [
    "# %%\n",
    "import os\n",
    "import pandas as pd\n",
    "import sys\n",
    "from datetime import UTC\n",
    "from datetime import datetime as dt\n",
    "from hmc.utils.dir import create_dir, create_job_id\n",
    "from hmc.model import train"
   ]
  },
  {
   "cell_type": "code",
   "execution_count": 4,
   "id": "5a57d366",
   "metadata": {},
   "outputs": [],
   "source": [
    "\n",
    "sys.argv = [\n",
    "'script.py',\n",
    "'--dataset', 'seq_GO', 'derisi_GO', 'gasch1_GO', 'cellcycle_FUN',\n",
    "'--dataset_path', '/home/bruno/storage/data/datasets',\n",
    "'--batch_size', '32',\n",
    "'--lr', '1e-5',\n",
    "'--dropout', '0.7',\n",
    "'--hidden_dim', '50',\n",
    "'--num_layers', '2',\n",
    "'--weight_decay', '1e-5',\n",
    "'--non_lin', 'relu',\n",
    "'--device', '0',\n",
    "'--num_epochs', '2000',\n",
    "'--seed', '0',\n",
    "'--output_path', '/home/bruno/storage/models/gofun',\n",
    "'--method', 'global',\n",
    "]\n"
   ]
  },
  {
   "cell_type": "code",
   "execution_count": null,
   "id": "ee37336e",
   "metadata": {},
   "outputs": [
    {
     "name": "stderr",
     "output_type": "stream",
     "text": [
      "2025-02-23 16:55:18,230 - INFO - New max length: 2\n"
     ]
    },
    {
     "name": "stdout",
     "output_type": "stream",
     "text": [
      "Experiment started at 19:55:18\n",
      ".......................................\n",
      "Total de GPUs disponíveis: 1\n",
      ".......................................\n",
      "Experiment with seq_GO dataset \n"
     ]
    },
    {
     "name": "stderr",
     "output_type": "stream",
     "text": [
      "2025-02-23 16:56:51,015 - INFO - New max length: 2\n",
      "2025-02-23 16:58:26,924 - INFO - New max length: 2\n"
     ]
    }
   ],
   "source": [
    "\n",
    "# %%\n",
    "# Salvar os argumentos atuais\n",
    "time_start = dt.now(UTC)\n",
    "print(\"Experiment started at {}\".format(time_start.strftime(\"%H:%M:%S\")))\n",
    "print(\".......................................\")\n",
    "df_predict = train()\n",
    "time_end = dt.now(UTC)\n",
    "time_elapsed = time_end - time_start\n",
    "print(\".......................................\")\n",
    "print(\"Experiment finished at {} / elapsed time {}s\".format(time_end.strftime(\"%H:%M:%S\"), time_elapsed.total_seconds()))\n"
   ]
  },
  {
   "cell_type": "code",
   "execution_count": null,
   "id": "dfd300b4-a419-4a09-8df0-4a6d9a98cbb1",
   "metadata": {},
   "outputs": [],
   "source": []
  },
  {
   "cell_type": "code",
   "execution_count": null,
   "id": "beb4efc4-4f11-4bf2-95b9-6523c7150002",
   "metadata": {},
   "outputs": [],
   "source": []
  },
  {
   "cell_type": "code",
   "execution_count": null,
   "id": "397c26e5-60a5-4c16-9b2e-c0a13831eec8",
   "metadata": {},
   "outputs": [],
   "source": []
  }
 ],
 "metadata": {
  "kernelspec": {
   "display_name": "Python 3 (ipykernel)",
   "language": "python",
   "name": "python3"
  },
  "language_info": {
   "codemirror_mode": {
    "name": "ipython",
    "version": 3
   },
   "file_extension": ".py",
   "mimetype": "text/x-python",
   "name": "python",
   "nbconvert_exporter": "python",
   "pygments_lexer": "ipython3",
   "version": "3.12.3"
  }
 },
 "nbformat": 4,
 "nbformat_minor": 5
}
