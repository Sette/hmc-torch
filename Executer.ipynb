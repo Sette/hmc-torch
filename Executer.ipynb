{
 "cells": [
  {
   "cell_type": "code",
   "execution_count": 1,
   "id": "bbc291da-2fb7-4e0d-95ba-3b822d9cfaab",
   "metadata": {
    "ExecuteTime": {
     "end_time": "2024-03-09T21:10:04.916381Z",
     "start_time": "2024-03-09T21:10:04.117703Z"
    }
   },
   "outputs": [
    {
     "name": "stdout",
     "output_type": "stream",
     "text": [
      "========================= Torch =========================\n",
      "GPUs availables: True\n",
      "==============================================================\n"
     ]
    }
   ],
   "source": [
    "import os\n",
    "import pandas as pd\n",
    "from datetime import datetime as dt\n",
    "from hmc.utils.dir import create_dir\n",
    "from hmc.model.train import run"
   ]
  },
  {
   "cell_type": "code",
   "execution_count": null,
   "id": "477638fc-089b-4725-81f1-695364796db7",
   "metadata": {},
   "outputs": [],
   "source": [
    "base_path = \"/mnt/disks/data/fma/trains\"\n",
    "id = \"hierarchical_tworoots_dev\"\n"
   ]
  },
  {
   "cell_type": "code",
   "execution_count": null,
   "id": "33a92da5-e8c4-4a52-87ea-fef1d0605416",
   "metadata": {},
   "outputs": [],
   "source": [
    "train_path = os.path.join(base_path,id)\n",
    "torch_path =os.path.join(train_path,'torch')\n",
    "metadata_path = os.path.join(train_path,\"metadata.json\")\n",
    "labels_path = os.path.join(train_path,\"labels.json\")\n",
    "\n",
    "\n",
    "args = pd.Series({\n",
    "    \"batch_size\":64,\n",
    "    \"epochs\":10,\n",
    "    \"dropout\":0.5,\n",
    "    'patience':1,\n",
    "    'shuffle':True,\n",
    "    'max_queue_size':64,\n",
    "    \"labels_path\": labels_path,\n",
    "    \"metadata_path\": metadata_path,\n",
    "    \"train_path\": os.path.join(torch_path,'train'),\n",
    "    \"test_path\": os.path.join(torch_path,'test'),\n",
    "    \"val_path\": os.path.join(torch_path,'val')\n",
    "})\n"
   ]
  },
  {
   "cell_type": "code",
   "execution_count": null,
   "id": "b033032f-4cb5-46bf-8ecc-3517ddaf6f51",
   "metadata": {
    "tags": []
   },
   "outputs": [],
   "source": [
    "\n",
    "time_start = dt.utcnow()\n",
    "print(\"[{}] Experiment started at {}\".format(id, time_start.strftime(\"%H:%M:%S\")))\n",
    "print(\".......................................\")\n",
    "print(args)\n",
    "run(args)\n",
    "time_end = dt.utcnow()\n",
    "time_elapsed = time_end - time_start\n",
    "print(\".......................................\")\n",
    "print(\"[{}] Experiment finished at {} / elapsed time {}s\".format(id, time_end.strftime(\"%H:%M:%S\"), time_elapsed.total_seconds()))"
   ]
  },
  {
   "cell_type": "code",
   "execution_count": null,
   "id": "7efb52c5-58a6-486d-a397-6ac32b772d17",
   "metadata": {},
   "outputs": [],
   "source": [
    "!nvidia-smi"
   ]
  },
  {
   "cell_type": "code",
   "execution_count": null,
   "id": "0dd467ee-e2ff-44a8-a871-3699ba909623",
   "metadata": {},
   "outputs": [],
   "source": []
  },
  {
   "cell_type": "code",
   "execution_count": null,
   "id": "f6bffb8f-2e4a-4375-afff-83c52f10b6f9",
   "metadata": {},
   "outputs": [],
   "source": []
  }
 ],
 "metadata": {
  "kernelspec": {
   "display_name": "Python 3 (ipykernel)",
   "language": "python",
   "name": "python3"
  },
  "language_info": {
   "codemirror_mode": {
    "name": "ipython",
    "version": 3
   },
   "file_extension": ".py",
   "mimetype": "text/x-python",
   "name": "python",
   "nbconvert_exporter": "python",
   "pygments_lexer": "ipython3",
   "version": "3.11.5"
  }
 },
 "nbformat": 4,
 "nbformat_minor": 5
}
