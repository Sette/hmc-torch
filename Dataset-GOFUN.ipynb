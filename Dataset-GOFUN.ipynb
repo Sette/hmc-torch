{
 "cells": [
  {
   "cell_type": "markdown",
   "id": "72297d63-738f-4af6-bb57-93cbf1e5889a",
   "metadata": {},
   "source": [
    "## Load dataset\n"
   ]
  },
  {
   "cell_type": "code",
   "execution_count": null,
   "id": "74b48b26-4fcd-45d9-ae26-db61f6ce5ae6",
   "metadata": {
    "ExecuteTime": {
     "end_time": "2024-05-12T19:37:14.457148Z",
     "start_time": "2024-05-12T19:37:12.677464Z"
    }
   },
   "outputs": [],
   "source": [
    "import torch\n",
    "import pandas as pd\n",
    "from hmc.dataset import GOFUNDataset, initialize_dataset\n",
    "from torch.utils.data import Dataset, DataLoader"
   ]
  },
  {
   "cell_type": "code",
   "execution_count": null,
   "id": "9042109d-07a8-4aae-8e70-c7ae61d0783c",
   "metadata": {
    "ExecuteTime": {
     "end_time": "2024-05-12T19:37:14.461766Z",
     "start_time": "2024-05-12T19:37:14.458499Z"
    }
   },
   "outputs": [],
   "source": [
    "from hmc.utils import __load_json__"
   ]
  },
  {
   "cell_type": "code",
   "execution_count": null,
   "id": "19aef345-b3aa-4142-97c6-c7f680a6f5b0",
   "metadata": {
    "ExecuteTime": {
     "end_time": "2024-05-12T19:37:14.525397Z",
     "start_time": "2024-05-12T19:37:14.521212Z"
    }
   },
   "outputs": [],
   "source": [
    "import os\n",
    "import json"
   ]
  },
  {
   "cell_type": "code",
   "execution_count": null,
   "id": "b0f79115-9146-4731-894c-5757ababc916",
   "metadata": {},
   "outputs": [],
   "source": [
    "dataset_path = '/home/bruno/storage/data'"
   ]
  },
  {
   "cell_type": "code",
   "execution_count": null,
   "id": "58ec7e9d-07e3-45aa-8935-de0a9b774555",
   "metadata": {},
   "outputs": [],
   "source": [
    "df_train, df_val, df_test = initialize_dataset('spo_FUN', dataset_path,  is_go=False)"
   ]
  },
  {
   "cell_type": "code",
   "execution_count": null,
   "id": "f4cd7cab-4f54-4a57-836c-97baeec3d59c",
   "metadata": {},
   "outputs": [],
   "source": [
    "df_test.df.features.values"
   ]
  },
  {
   "cell_type": "code",
   "execution_count": null,
   "id": "3eff454a-6650-45e4-84c1-6dfb27e19a08",
   "metadata": {},
   "outputs": [],
   "source": []
  }
 ],
 "metadata": {
  "kernelspec": {
   "display_name": "Python 3 (ipykernel)",
   "language": "python",
   "name": "python3"
  },
  "language_info": {
   "codemirror_mode": {
    "name": "ipython",
    "version": 3
   },
   "file_extension": ".py",
   "mimetype": "text/x-python",
   "name": "python",
   "nbconvert_exporter": "python",
   "pygments_lexer": "ipython3",
   "version": "3.12.5"
  }
 },
 "nbformat": 4,
 "nbformat_minor": 5
}
