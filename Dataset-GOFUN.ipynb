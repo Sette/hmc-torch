{
 "cells": [
  {
   "cell_type": "markdown",
   "id": "72297d63-738f-4af6-bb57-93cbf1e5889a",
   "metadata": {},
   "source": [
    "## Load dataset\n"
   ]
  },
  {
   "cell_type": "code",
   "execution_count": 1,
   "id": "74b48b26-4fcd-45d9-ae26-db61f6ce5ae6",
   "metadata": {
    "ExecuteTime": {
     "end_time": "2024-05-12T19:37:14.457148Z",
     "start_time": "2024-05-12T19:37:12.677464Z"
    }
   },
   "outputs": [],
   "source": [
    "import torch\n",
    "import pandas as pd\n",
    "import numpy as np\n",
    "import networkx as nx\n",
    "from hmc.dataset import GOFUNDataset, initialize_dataset\n",
    "from torch.utils.data import Dataset, DataLoader"
   ]
  },
  {
   "cell_type": "code",
   "execution_count": 2,
   "id": "9042109d-07a8-4aae-8e70-c7ae61d0783c",
   "metadata": {
    "ExecuteTime": {
     "end_time": "2024-05-12T19:37:14.461766Z",
     "start_time": "2024-05-12T19:37:14.458499Z"
    }
   },
   "outputs": [],
   "source": [
    "from hmc.utils import __load_json__"
   ]
  },
  {
   "cell_type": "code",
   "execution_count": 3,
   "id": "19aef345-b3aa-4142-97c6-c7f680a6f5b0",
   "metadata": {
    "ExecuteTime": {
     "end_time": "2024-05-12T19:37:14.525397Z",
     "start_time": "2024-05-12T19:37:14.521212Z"
    }
   },
   "outputs": [],
   "source": [
    "from sklearn.impute import SimpleImputer\n",
    "\n",
    "from sklearn import preprocessing"
   ]
  },
  {
   "cell_type": "code",
   "execution_count": 4,
   "id": "b0f79115-9146-4731-894c-5757ababc916",
   "metadata": {},
   "outputs": [],
   "source": [
    "dataset_path = '/home/bruno/storage/data/go_fun/go_fun_hmc'"
   ]
  },
  {
   "cell_type": "code",
   "execution_count": 5,
   "id": "77ac2b44",
   "metadata": {},
   "outputs": [],
   "source": [
    "device = torch.device(\"cuda:0\" if torch.cuda.is_available() else \"cpu\")"
   ]
  },
  {
   "cell_type": "code",
   "execution_count": 7,
   "id": "58ec7e9d-07e3-45aa-8935-de0a9b774555",
   "metadata": {},
   "outputs": [],
   "source": [
    "ds_train, ds_val, ds_test = initialize_dataset('cellcycle_GO', dataset_path)"
   ]
  },
  {
   "cell_type": "code",
   "execution_count": 12,
   "id": "5b84f8cf",
   "metadata": {},
   "outputs": [
    {
     "data": {
      "text/html": [
       "<div>\n",
       "<style scoped>\n",
       "    .dataframe tbody tr th:only-of-type {\n",
       "        vertical-align: middle;\n",
       "    }\n",
       "\n",
       "    .dataframe tbody tr th {\n",
       "        vertical-align: top;\n",
       "    }\n",
       "\n",
       "    .dataframe thead th {\n",
       "        text-align: right;\n",
       "    }\n",
       "</style>\n",
       "<table border=\"1\" class=\"dataframe\">\n",
       "  <thead>\n",
       "    <tr style=\"text-align: right;\">\n",
       "      <th></th>\n",
       "      <th>features</th>\n",
       "      <th>categories</th>\n",
       "    </tr>\n",
       "  </thead>\n",
       "  <tbody>\n",
       "    <tr>\n",
       "      <th>0</th>\n",
       "      <td>[0.15, None, -0.22, 0.07, -0.15, -0.15, -0.21,...</td>\n",
       "      <td>GO0003709@GO0000127@GO0005739@GO0006384</td>\n",
       "    </tr>\n",
       "    <tr>\n",
       "      <th>1</th>\n",
       "      <td>[-1.22, -0.27, -0.1, 0.23, -0.14, -0.71, 0.1, ...</td>\n",
       "      <td>GO0003746@GO0005840@GO0005853@GO0006414</td>\n",
       "    </tr>\n",
       "    <tr>\n",
       "      <th>2</th>\n",
       "      <td>[-0.6, 1.01, 0.24, 0.65, -0.05, -0.53, -0.47, ...</td>\n",
       "      <td>GO0016887@GO0051082@GO0005832@GO0005634@GO0000...</td>\n",
       "    </tr>\n",
       "    <tr>\n",
       "      <th>3</th>\n",
       "      <td>[0.25, -0.79, -0.22, -0.54, -0.03, -0.27, 0.17...</td>\n",
       "      <td>GO0003674@GO0016021@GO0042175@GO0006997@GO0007...</td>\n",
       "    </tr>\n",
       "    <tr>\n",
       "      <th>4</th>\n",
       "      <td>[-0.12, -0.54, -0.12, -0.18, 0.0, -0.01, 0.12,...</td>\n",
       "      <td>GO0000703@GO0008534@GO0005634@GO0005739@GO0006...</td>\n",
       "    </tr>\n",
       "    <tr>\n",
       "      <th>...</th>\n",
       "      <td>...</td>\n",
       "      <td>...</td>\n",
       "    </tr>\n",
       "    <tr>\n",
       "      <th>1620</th>\n",
       "      <td>[0.28, None, -0.45, -0.27, 0.04, 0.2, -0.18, 0...</td>\n",
       "      <td>GO0003674@GO0005575@GO0008150</td>\n",
       "    </tr>\n",
       "    <tr>\n",
       "      <th>1621</th>\n",
       "      <td>[-0.18, -0.25, -0.03, -0.17, 0.23, -0.03, 0.43...</td>\n",
       "      <td>GO0015239@GO0005887@GO0042493@GO0015893</td>\n",
       "    </tr>\n",
       "    <tr>\n",
       "      <th>1622</th>\n",
       "      <td>[0.12, -0.3, -0.14, 0.19, 0.14, 0.09, 0.25, -0...</td>\n",
       "      <td>GO0003702@GO0005634@GO0005737@GO0046685@GO0045944</td>\n",
       "    </tr>\n",
       "    <tr>\n",
       "      <th>1623</th>\n",
       "      <td>[0.14, -1.18, -0.27, -0.18, -0.09, 0.04, -0.06...</td>\n",
       "      <td>GO0030611@GO0005575@GO0046685</td>\n",
       "    </tr>\n",
       "    <tr>\n",
       "      <th>1624</th>\n",
       "      <td>[0.33, None, -0.71, 0.16, 0.14, None, 0.31, -0...</td>\n",
       "      <td>GO0015105@GO0005887@GO0015700</td>\n",
       "    </tr>\n",
       "  </tbody>\n",
       "</table>\n",
       "<p>1625 rows × 2 columns</p>\n",
       "</div>"
      ],
      "text/plain": [
       "                                               features  \\\n",
       "0     [0.15, None, -0.22, 0.07, -0.15, -0.15, -0.21,...   \n",
       "1     [-1.22, -0.27, -0.1, 0.23, -0.14, -0.71, 0.1, ...   \n",
       "2     [-0.6, 1.01, 0.24, 0.65, -0.05, -0.53, -0.47, ...   \n",
       "3     [0.25, -0.79, -0.22, -0.54, -0.03, -0.27, 0.17...   \n",
       "4     [-0.12, -0.54, -0.12, -0.18, 0.0, -0.01, 0.12,...   \n",
       "...                                                 ...   \n",
       "1620  [0.28, None, -0.45, -0.27, 0.04, 0.2, -0.18, 0...   \n",
       "1621  [-0.18, -0.25, -0.03, -0.17, 0.23, -0.03, 0.43...   \n",
       "1622  [0.12, -0.3, -0.14, 0.19, 0.14, 0.09, 0.25, -0...   \n",
       "1623  [0.14, -1.18, -0.27, -0.18, -0.09, 0.04, -0.06...   \n",
       "1624  [0.33, None, -0.71, 0.16, 0.14, None, 0.31, -0...   \n",
       "\n",
       "                                             categories  \n",
       "0               GO0003709@GO0000127@GO0005739@GO0006384  \n",
       "1               GO0003746@GO0005840@GO0005853@GO0006414  \n",
       "2     GO0016887@GO0051082@GO0005832@GO0005634@GO0000...  \n",
       "3     GO0003674@GO0016021@GO0042175@GO0006997@GO0007...  \n",
       "4     GO0000703@GO0008534@GO0005634@GO0005739@GO0006...  \n",
       "...                                                 ...  \n",
       "1620                      GO0003674@GO0005575@GO0008150  \n",
       "1621            GO0015239@GO0005887@GO0042493@GO0015893  \n",
       "1622  GO0003702@GO0005634@GO0005737@GO0046685@GO0045944  \n",
       "1623                      GO0030611@GO0005575@GO0046685  \n",
       "1624                      GO0015105@GO0005887@GO0015700  \n",
       "\n",
       "[1625 rows x 2 columns]"
      ]
     },
     "execution_count": 12,
     "metadata": {},
     "output_type": "execute_result"
    }
   ],
   "source": [
    "ds_train.df"
   ]
  },
  {
   "cell_type": "code",
   "execution_count": 10,
   "id": "661d5750",
   "metadata": {},
   "outputs": [
    {
     "data": {
      "text/plain": [
       "4126"
      ]
     },
     "execution_count": 10,
     "metadata": {},
     "output_type": "execute_result"
    }
   ],
   "source": [
    "len(ds_train.Y[0])"
   ]
  },
  {
   "cell_type": "code",
   "execution_count": 11,
   "id": "c87c24cb",
   "metadata": {},
   "outputs": [
    {
     "data": {
      "text/plain": [
       "array([1., 1., 1., ..., 0., 1., 0.])"
      ]
     },
     "execution_count": 11,
     "metadata": {},
     "output_type": "execute_result"
    }
   ],
   "source": [
    "ds_train.Y[0]"
   ]
  },
  {
   "cell_type": "code",
   "execution_count": 7,
   "id": "5f273c2a-54c1-466c-b26a-aea7ee074206",
   "metadata": {},
   "outputs": [],
   "source": [
    "scaler = preprocessing.StandardScaler().fit(np.concatenate((ds_train.X_cont, ds_val.X_cont)))\n",
    "imp_mean = SimpleImputer(missing_values=np.nan, strategy='mean').fit(np.concatenate((ds_train.X_cont, ds_val.X_cont)))"
   ]
  },
  {
   "cell_type": "code",
   "execution_count": 8,
   "id": "f1555673",
   "metadata": {},
   "outputs": [],
   "source": [
    "ds_val.X_count, ds_val.Y = scaler.transform(imp_mean.transform(ds_val.X_cont)), torch.tensor(ds_val.Y).to(device)\n",
    "ds_train.X_count, ds_train.Y = scaler.transform(imp_mean.transform(ds_train.X_cont)), torch.tensor(ds_train.Y).to(device)"
   ]
  }
 ],
 "metadata": {
  "kernelspec": {
   "display_name": ".venv",
   "language": "python",
   "name": "python3"
  },
  "language_info": {
   "codemirror_mode": {
    "name": "ipython",
    "version": 3
   },
   "file_extension": ".py",
   "mimetype": "text/x-python",
   "name": "python",
   "nbconvert_exporter": "python",
   "pygments_lexer": "ipython3",
   "version": "3.12.3"
  }
 },
 "nbformat": 4,
 "nbformat_minor": 5
}
