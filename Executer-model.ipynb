{
 "cells": [
  {
   "cell_type": "code",
   "execution_count": 3,
   "id": "bbc291da-2fb7-4e0d-95ba-3b822d9cfaab",
   "metadata": {
    "ExecuteTime": {
     "end_time": "2024-03-09T21:10:04.916381Z",
     "start_time": "2024-03-09T21:10:04.117703Z"
    }
   },
   "outputs": [],
   "source": [
    "import os\n",
    "import json\n",
    "import torch\n",
    "import pandas as pd\n",
    "from datetime import datetime as dt\n",
    "import sys\n",
    "import types\n",
    "from hmc.utils.dir import create_dir\n",
    "from hmc.model.arguments import  build"
   ]
  },
  {
   "cell_type": "code",
   "execution_count": 4,
   "id": "ecaa0482-fc28-4adb-b63e-b2b39ec98287",
   "metadata": {},
   "outputs": [],
   "source": [
    "from tqdm.notebook import tqdm"
   ]
  },
  {
   "cell_type": "code",
   "execution_count": 5,
   "id": "2552d83d-8b8f-4dd7-88d4-f3d97e5938fa",
   "metadata": {},
   "outputs": [],
   "source": [
    "import os\n",
    "from datetime import datetime\n",
    "\n",
    "def horario_atual_para_diretorio():\n",
    "    # Obtém a data e hora atual\n",
    "    data_hora_atual = datetime.now()\n",
    "    \n",
    "    # Formata a data e hora para o formato de diretório desejado\n",
    "    diretorio = data_hora_atual.strftime('%Y_%m_%d_%H_%M_%S')\n",
    "    \n",
    "    return diretorio\n",
    "\n",
    "# Exemplo de uso\n",
    "diretorio_formatado = horario_atual_para_diretorio()"
   ]
  },
  {
   "cell_type": "code",
   "execution_count": 6,
   "id": "33a92da5-e8c4-4a52-87ea-fef1d0605416",
   "metadata": {},
   "outputs": [],
   "source": [
    "\n",
    "base_path = \"/mnt/disks/data/fma/trains\"\n",
    "sample_id = \"hierarchical_tworoots_dev\"\n",
    "\n",
    "\n",
    "train_path = os.path.join(base_path, sample_id)\n",
    "torch_path =os.path.join(train_path,'torch')\n",
    "metadata_path = os.path.join(train_path,\"metadata.json\")\n",
    "labels_path = os.path.join(train_path,\"labels.json\")\n",
    "\n",
    "model_id = diretorio_formatado\n",
    "\n",
    "model_path = os.path.join(train_path, model_id)\n",
    "\n",
    "args = pd.Series({\n",
    "    \"batch_size\":32,\n",
    "    \"epochs\":10,\n",
    "    \"dropout\":0.3,\n",
    "    'patience':1,\n",
    "    'shuffle':True,\n",
    "    'max_queue_size':64,\n",
    "    \"labels_path\": labels_path,\n",
    "    \"metadata_path\": metadata_path,\n",
    "    \"train_path\": os.path.join(torch_path,'train.pth'),\n",
    "    \"test_path\": os.path.join(torch_path,'test.pth'),\n",
    "    \"val_path\": os.path.join(torch_path,'val.pth'),\n",
    "    \"model_path\":model_path\n",
    "})\n"
   ]
  },
  {
   "cell_type": "code",
   "execution_count": 7,
   "id": "b53b46a1-0880-46e6-a9ab-ae437901e2e4",
   "metadata": {},
   "outputs": [
    {
     "data": {
      "text/plain": [
       "True"
      ]
     },
     "execution_count": 7,
     "metadata": {},
     "output_type": "execute_result"
    }
   ],
   "source": [
    "create_dir(model_path)"
   ]
  },
  {
   "cell_type": "code",
   "execution_count": 8,
   "id": "9605e507-64f7-4bad-88ba-49388a2ac3fa",
   "metadata": {},
   "outputs": [],
   "source": [
    "from torch.utils.data import Dataset, DataLoader\n",
    "\n",
    "\n",
    "# Função parse_single_music adaptada\n",
    "def parse_single_music(data, labels):\n",
    "    track_id, categories, music = data\n",
    "    max_depth = len(categories[0])\n",
    "    data_dict = {}\n",
    "    for level in range(1, max_depth + 1):\n",
    "        level_labels = []\n",
    "        for cat in categories:\n",
    "            if cat[level-1] != \"\":\n",
    "                label = labels[f'label_{level}'][cat[level-1]]\n",
    "                if label not in level_labels:\n",
    "                    level_labels.append(label)\n",
    "            else:\n",
    "                if len(level_labels) == 0:\n",
    "                    level_labels.append(-1)\n",
    "        data_dict[f'label{level}'] = level_labels\n",
    "\n",
    "    data_dict['features'] = music\n",
    "    data_dict['track_id'] = track_id\n",
    "\n",
    "    return data_dict\n",
    "\n",
    "\n",
    "\n",
    "# Classe personalizada do Dataset\n",
    "class MusicDataset(Dataset):\n",
    "    def __init__(self, dataframe, labels):\n",
    "        self.data = dataframe\n",
    "        self.labels = labels\n",
    "    \n",
    "    def __len__(self):\n",
    "        return len(self.data)\n",
    "    \n",
    "    def __getitem__(self, idx):\n",
    "        data = self.data.iloc[idx]\n",
    "        parsed_data = parse_single_music(data, self.labels)\n",
    "        features = torch.tensor(parsed_data['features'], dtype=torch.float32)\n",
    "        labels = {key: torch.tensor(value, dtype=torch.long) for key, value in parsed_data.items() if key.startswith('label')}\n",
    "        track_id = torch.tensor(parsed_data['track_id'], dtype=torch.long)\n",
    "        return features, labels, track_id"
   ]
  },
  {
   "cell_type": "code",
   "execution_count": 9,
   "id": "e908123e",
   "metadata": {},
   "outputs": [],
   "source": [
    "# Create a dummy dataset module with dataset_torch submodule\n",
    "dataset = types.ModuleType('dataset')\n",
    "dataset_torch = types.ModuleType('dataset_torch')\n",
    "dataset.dataset_torch = dataset_torch\n",
    "sys.modules['dataset'] = dataset\n",
    "sys.modules['dataset.dataset_torch'] = dataset_torch\n",
    "\n",
    "\n",
    "dataset_torch.MusicDataset = MusicDataset\n",
    "sys.modules['dataset_torch'] = dataset_torch"
   ]
  },
  {
   "cell_type": "code",
   "execution_count": 10,
   "id": "eafea662-1fd5-48ff-9aa1-e5232953e15e",
   "metadata": {},
   "outputs": [],
   "source": [
    "import torch\n",
    "import torch.nn as nn\n",
    "import torch.nn.functional as F\n",
    "\n",
    "class OutputNormalization(nn.Module):\n",
    "    def __init__(self):\n",
    "        super(OutputNormalization, self).__init__()\n",
    "\n",
    "    def forward(self, x):\n",
    "        # Obtemos a classe com a maior probabilidade\n",
    "        one_hot_encoded = torch.zeros_like(x).scatter_(1, x.argmax(dim=1, keepdim=True), 1.0)\n",
    "        return one_hot_encoded\n",
    "\n",
    "class ClassificationLayer(nn.Module):\n",
    "    def __init__(self, input_shape, size, dropout):\n",
    "        super(ClassificationLayer, self).__init__()\n",
    "        self.fc1 = nn.Linear(input_shape, 1024)\n",
    "        self.dropout1 = nn.Dropout(dropout)\n",
    "        self.fc2 = nn.Linear(1024, 512)\n",
    "        self.dropout2 = nn.Dropout(dropout)\n",
    "        self.fc3 = nn.Linear(512, 256)\n",
    "        self.batch_norm = nn.BatchNorm1d(256)\n",
    "        self.dropout3 = nn.Dropout(dropout)\n",
    "        self.fc4 = nn.Linear(256, size)\n",
    "\n",
    "    def forward(self, x):\n",
    "        x = F.relu(self.fc1(x))\n",
    "        x = self.dropout1(x)\n",
    "        x = F.relu(self.fc2(x))\n",
    "        x = self.dropout2(x)\n",
    "        x = F.relu(self.fc3(x))\n",
    "        x = self.batch_norm(x)\n",
    "        x = self.dropout3(x)\n",
    "        x = self.fc4(x)\n",
    "        return x\n",
    "\n",
    "class MusicModel(nn.Module):\n",
    "    def __init__(self, levels_size, sequence_size=1280, dropout=0.6):\n",
    "        super(MusicModel, self).__init__()\n",
    "        self.sequence_size = sequence_size\n",
    "        self.classification_layers = nn.ModuleList()\n",
    "        self.output_normalization = OutputNormalization()\n",
    "        self.batch_norm = nn.BatchNorm1d(sequence_size)\n",
    "        \n",
    "        for level, size in levels_size.items():\n",
    "            if level == 'level1':\n",
    "                self.classification_layers.append(ClassificationLayer(sequence_size, size, dropout))\n",
    "            else:\n",
    "                self.classification_layers.append(ClassificationLayer(sequence_size * 2, size, dropout))\n",
    "\n",
    "    def forward(self, x):\n",
    "        outputs = []\n",
    "        current_output = x\n",
    "        \n",
    "        for i, classification_layer in enumerate(self.classification_layers):\n",
    "            if i > 0:\n",
    "                normalized_output = self.batch_norm(self.output_normalization(current_output))\n",
    "                normalized_output = normalized_output.repeat(1, self.sequence_size // normalized_output.shape[1])\n",
    "                current_input = torch.cat([normalized_output, x], dim=1)\n",
    "            else:\n",
    "                current_input = x\n",
    "\n",
    "            current_output = classification_layer(current_input)\n",
    "            outputs.append(current_output)\n",
    "        \n",
    "        return outputs\n",
    "\n"
   ]
  },
  {
   "cell_type": "code",
   "execution_count": 11,
   "id": "ca856c25-97fd-4f11-ad9d-5eb1e7d1c452",
   "metadata": {},
   "outputs": [
    {
     "name": "stdout",
     "output_type": "stream",
     "text": [
      "{'sequence_size': 1280, 'max_depth': 4, 'levels_size': [2, 30, 16], 'val_path': '/mnt/disks/data/fma/trains/hierarchical_tworoots_dev/tfrecords/val', 'train_path': '/mnt/disks/data/fma/trains/hierarchical_tworoots_dev/tfrecords/train', 'test_path': '/mnt/disks/data/fma/trains/hierarchical_tworoots_dev/tfrecords/test', 'val_torch_path': '/mnt/disks/data/fma/trains/hierarchical_tworoots_dev/torch/val.pth', 'train_torch_path': '/mnt/disks/data/fma/trains/hierarchical_tworoots_dev/torch/train.pth', 'test_torch_path': '/mnt/disks/data/fma/trains/hierarchical_tworoots_dev/torch/test.pth', 'val_csv': '/mnt/disks/data/fma/trains/hierarchical_tworoots_dev/val.csv', 'train_csv': '/mnt/disks/data/fma/trains/hierarchical_tworoots_dev/train.csv', 'test_csv': '/mnt/disks/data/fma/trains/hierarchical_tworoots_dev/test.csv', 'trainset_count': 16791, 'validationset_count': 2007, 'testset_count': 4814}\n"
     ]
    }
   ],
   "source": [
    "with open(args.metadata_path, 'r') as f:\n",
    "    metadata = json.loads(f.read())\n",
    "    print(metadata)"
   ]
  },
  {
   "cell_type": "code",
   "execution_count": 12,
   "id": "87c09479-b7b0-46eb-8cac-6c3d469169ab",
   "metadata": {},
   "outputs": [
    {
     "data": {
      "text/plain": [
       "16791"
      ]
     },
     "execution_count": 12,
     "metadata": {},
     "output_type": "execute_result"
    }
   ],
   "source": [
    "metadata['trainset_count']"
   ]
  },
  {
   "cell_type": "code",
   "execution_count": 13,
   "id": "6733704f-f78c-466c-8118-26724c513eca",
   "metadata": {},
   "outputs": [],
   "source": [
    "with open(args.labels_path, 'r') as f:\n",
    "    labels = json.loads(f.read())"
   ]
  },
  {
   "cell_type": "code",
   "execution_count": 14,
   "id": "85384b3a-8c26-4f6b-95c8-676eb5c19835",
   "metadata": {},
   "outputs": [],
   "source": [
    "levels_size = {'level1': labels['label_1_count'] ,\n",
    "                   'level2': labels['label_2_count'] ,\n",
    "                   'level3': labels['label_3_count'] ,\n",
    "                   'level4': labels['label_4_count'] }"
   ]
  },
  {
   "cell_type": "code",
   "execution_count": 15,
   "id": "2aaadaf4-55a6-4287-94dc-890161b1bec6",
   "metadata": {},
   "outputs": [
    {
     "name": "stdout",
     "output_type": "stream",
     "text": [
      "level1\n",
      "level2\n",
      "level3\n",
      "level4\n"
     ]
    }
   ],
   "source": [
    "for level, labels in levels_size.items():\n",
    "    print(level)"
   ]
  },
  {
   "cell_type": "code",
   "execution_count": 16,
   "id": "a5762a07-fd43-491b-aa2f-5dd9dddd87ea",
   "metadata": {},
   "outputs": [],
   "source": [
    "depth = len(levels_size)"
   ]
  },
  {
   "cell_type": "code",
   "execution_count": 17,
   "id": "e836ce7f-9859-4e2d-96f4-b5afe10711ce",
   "metadata": {},
   "outputs": [],
   "source": [
    "#ds_train = Dataset(args.trainset_pattern, args.epochs, args.batch_size, levels_size).build(df=False)"
   ]
  },
  {
   "cell_type": "code",
   "execution_count": 18,
   "id": "76cd697f-0c8f-465f-8bd9-13f649f334c6",
   "metadata": {},
   "outputs": [],
   "source": [
    "#df_train = Dataset(args.trainset_pattern, args.epochs, args.batch_size, levels_size).build(df=True)"
   ]
  },
  {
   "cell_type": "code",
   "execution_count": 19,
   "id": "232e1d65-7a7e-44a3-a878-9d04bd9ce7a9",
   "metadata": {},
   "outputs": [
    {
     "name": "stdout",
     "output_type": "stream",
     "text": [
      "========================= Torch =========================\n",
      "GPUs availables: True\n",
      "==============================================================\n"
     ]
    }
   ],
   "source": [
    "import torch.optim as optim\n",
    "from torch.nn.utils.rnn import pad_sequence\n",
    "import torch.nn as nn\n",
    "import torch\n",
    "from torch.utils.data import DataLoader\n",
    "import numpy as np\n",
    "from hmc.model import MusicModel\n",
    "\n",
    "import json\n",
    "\n",
    "def train(model, dataloader, criterion, optimizer, device):\n",
    "    model.train()\n",
    "    running_loss = 0.0\n",
    "    for inputs, labels in dataloader:\n",
    "        inputs, labels = inputs.to(device), labels.to(device)\n",
    "        \n",
    "        optimizer.zero_grad()\n",
    "        \n",
    "        outputs = model(inputs)\n",
    "        loss = criterion(outputs, labels)\n",
    "        loss.backward()\n",
    "        optimizer.step()\n",
    "        \n",
    "        running_loss += loss.item()\n",
    "    \n",
    "    return running_loss / len(dataloader)\n",
    "\n",
    "def evaluate(model, dataloader, criterion, device):\n",
    "    model.eval()\n",
    "    running_loss = 0.0\n",
    "    with torch.no_grad():\n",
    "        for inputs, labels in dataloader:\n",
    "            inputs, labels = inputs.to(device), labels.to(device)\n",
    "            \n",
    "            outputs = model(inputs)\n",
    "            loss = criterion(outputs, labels)\n",
    "            \n",
    "            running_loss += loss.item()\n",
    "    \n",
    "    return running_loss / len(dataloader)\n",
    "\n",
    "\n",
    "print(\"========================= Torch =========================\")\n",
    "print(\"GPUs availables: {}\".format(torch.cuda.is_available()))\n",
    "print(\"==============================================================\")\n",
    "\n",
    "\n",
    "def run(args: object):\n",
    "    print(args)\n",
    "\n",
    "    with open(args.metadata_path, 'r') as f:\n",
    "        metadata = json.loads(f.read())\n",
    "        print(metadata)\n",
    "\n",
    "    with open(args.labels_path, 'r') as f:\n",
    "        labels = json.loads(f.read())\n",
    "\n",
    "    levels_size = {'level1': labels['label_1_count'] ,\n",
    "                   'level2': labels['label_2_count'] ,\n",
    "                   'level3': labels['label_3_count'] ,\n",
    "                   'level4': labels['label_4_count'] }\n",
    "\n",
    "    params: dict = {\n",
    "        'levels_size': levels_size,\n",
    "        'sequence_size': metadata['sequence_size'],\n",
    "        'dropout': args.dropout\n",
    "    }\n",
    "\n",
    "    print(params)\n",
    "    model = MusicModel(levels_size)\n",
    "    # Exemplo de uso\n",
    "    device = torch.device('cuda' if torch.cuda.is_available() else 'cpu')\n",
    "    model.to(device)\n",
    "\n",
    "    criterion = nn.BCELoss()  # ou outra loss apropriada para seu caso\n",
    "    optimizer = optim.Adam(model.parameters(), lr=0.001)\n",
    "\n",
    "    # Carregar o dataset salvo\n",
    "    train_dataset = torch.load(args.train_path)\n",
    "    val_dataset = torch.load(args.val_path)\n",
    "    \n",
    "    # Criação do DataLoader\n",
    "    train_dataloader = DataLoader(train_dataset, batch_size=args.batch_size, shuffle=args.shuffle)\n",
    "    val_dataloader = DataLoader(val_dataset, batch_size=args.batch_size, shuffle=args.shuffle)\n",
    "    \n",
    "    # Treinamento e avaliação\n",
    "    num_epochs = 10\n",
    "    for epoch in range(num_epochs):\n",
    "        train_loss = train(model, train_dataloader, criterion, optimizer, device)\n",
    "        val_loss = evaluate(model, val_dataloader, criterion, device)\n",
    "        print(f'Epoch {epoch+1}, Train Loss: {train_loss}, Validation Loss: {val_loss}')\n"
   ]
  },
  {
   "cell_type": "code",
   "execution_count": 20,
   "id": "b033032f-4cb5-46bf-8ecc-3517ddaf6f51",
   "metadata": {
    "tags": []
   },
   "outputs": [
    {
     "name": "stdout",
     "output_type": "stream",
     "text": [
      "[<built-in function id>] Experiment started at 11:06:02\n",
      ".......................................\n",
      "batch_size                                                       32\n",
      "epochs                                                           10\n",
      "dropout                                                         0.3\n",
      "patience                                                          1\n",
      "shuffle                                                        True\n",
      "max_queue_size                                                   64\n",
      "labels_path       /mnt/disks/data/fma/trains/hierarchical_tworoo...\n",
      "metadata_path     /mnt/disks/data/fma/trains/hierarchical_tworoo...\n",
      "train_path        /mnt/disks/data/fma/trains/hierarchical_tworoo...\n",
      "test_path         /mnt/disks/data/fma/trains/hierarchical_tworoo...\n",
      "val_path          /mnt/disks/data/fma/trains/hierarchical_tworoo...\n",
      "model_path        /mnt/disks/data/fma/trains/hierarchical_tworoo...\n",
      "dtype: object\n",
      "{'sequence_size': 1280, 'max_depth': 4, 'levels_size': [2, 30, 16], 'val_path': '/mnt/disks/data/fma/trains/hierarchical_tworoots_dev/tfrecords/val', 'train_path': '/mnt/disks/data/fma/trains/hierarchical_tworoots_dev/tfrecords/train', 'test_path': '/mnt/disks/data/fma/trains/hierarchical_tworoots_dev/tfrecords/test', 'val_torch_path': '/mnt/disks/data/fma/trains/hierarchical_tworoots_dev/torch/val.pth', 'train_torch_path': '/mnt/disks/data/fma/trains/hierarchical_tworoots_dev/torch/train.pth', 'test_torch_path': '/mnt/disks/data/fma/trains/hierarchical_tworoots_dev/torch/test.pth', 'val_csv': '/mnt/disks/data/fma/trains/hierarchical_tworoots_dev/val.csv', 'train_csv': '/mnt/disks/data/fma/trains/hierarchical_tworoots_dev/train.csv', 'test_csv': '/mnt/disks/data/fma/trains/hierarchical_tworoots_dev/test.csv', 'trainset_count': 16791, 'validationset_count': 2007, 'testset_count': 4814}\n",
      "{'levels_size': {'level1': 2, 'level2': 30, 'level3': 16, 'level4': 3}, 'sequence_size': 1280, 'dropout': 0.3}\n"
     ]
    },
    {
     "ename": "ValueError",
     "evalue": "too many values to unpack (expected 2)",
     "output_type": "error",
     "traceback": [
      "\u001b[0;31m---------------------------------------------------------------------------\u001b[0m",
      "\u001b[0;31mValueError\u001b[0m                                Traceback (most recent call last)",
      "Cell \u001b[0;32mIn[20], line 5\u001b[0m\n\u001b[1;32m      3\u001b[0m \u001b[38;5;28mprint\u001b[39m(\u001b[38;5;124m\"\u001b[39m\u001b[38;5;124m.......................................\u001b[39m\u001b[38;5;124m\"\u001b[39m)\n\u001b[1;32m      4\u001b[0m \u001b[38;5;66;03m#print(args)\u001b[39;00m\n\u001b[0;32m----> 5\u001b[0m \u001b[43mrun\u001b[49m\u001b[43m(\u001b[49m\u001b[43margs\u001b[49m\u001b[43m)\u001b[49m\n\u001b[1;32m      6\u001b[0m time_end \u001b[38;5;241m=\u001b[39m dt\u001b[38;5;241m.\u001b[39mutcnow()\n\u001b[1;32m      7\u001b[0m time_elapsed \u001b[38;5;241m=\u001b[39m time_end \u001b[38;5;241m-\u001b[39m time_start\n",
      "Cell \u001b[0;32mIn[19], line 97\u001b[0m, in \u001b[0;36mrun\u001b[0;34m(args)\u001b[0m\n\u001b[1;32m     95\u001b[0m num_epochs \u001b[38;5;241m=\u001b[39m \u001b[38;5;241m10\u001b[39m\n\u001b[1;32m     96\u001b[0m \u001b[38;5;28;01mfor\u001b[39;00m epoch \u001b[38;5;129;01min\u001b[39;00m \u001b[38;5;28mrange\u001b[39m(num_epochs):\n\u001b[0;32m---> 97\u001b[0m     train_loss \u001b[38;5;241m=\u001b[39m \u001b[43mtrain\u001b[49m\u001b[43m(\u001b[49m\u001b[43mmodel\u001b[49m\u001b[43m,\u001b[49m\u001b[43m \u001b[49m\u001b[43mtrain_dataloader\u001b[49m\u001b[43m,\u001b[49m\u001b[43m \u001b[49m\u001b[43mcriterion\u001b[49m\u001b[43m,\u001b[49m\u001b[43m \u001b[49m\u001b[43moptimizer\u001b[49m\u001b[43m,\u001b[49m\u001b[43m \u001b[49m\u001b[43mdevice\u001b[49m\u001b[43m)\u001b[49m\n\u001b[1;32m     98\u001b[0m     val_loss \u001b[38;5;241m=\u001b[39m evaluate(model, val_dataloader, criterion, device)\n\u001b[1;32m     99\u001b[0m     \u001b[38;5;28mprint\u001b[39m(\u001b[38;5;124mf\u001b[39m\u001b[38;5;124m'\u001b[39m\u001b[38;5;124mEpoch \u001b[39m\u001b[38;5;132;01m{\u001b[39;00mepoch\u001b[38;5;241m+\u001b[39m\u001b[38;5;241m1\u001b[39m\u001b[38;5;132;01m}\u001b[39;00m\u001b[38;5;124m, Train Loss: \u001b[39m\u001b[38;5;132;01m{\u001b[39;00mtrain_loss\u001b[38;5;132;01m}\u001b[39;00m\u001b[38;5;124m, Validation Loss: \u001b[39m\u001b[38;5;132;01m{\u001b[39;00mval_loss\u001b[38;5;132;01m}\u001b[39;00m\u001b[38;5;124m'\u001b[39m)\n",
      "Cell \u001b[0;32mIn[19], line 22\u001b[0m, in \u001b[0;36mtrain\u001b[0;34m(model, dataloader, criterion, optimizer, device)\u001b[0m\n\u001b[1;32m     20\u001b[0m model\u001b[38;5;241m.\u001b[39mtrain()\n\u001b[1;32m     21\u001b[0m running_loss \u001b[38;5;241m=\u001b[39m \u001b[38;5;241m0.0\u001b[39m\n\u001b[0;32m---> 22\u001b[0m \u001b[43m\u001b[49m\u001b[38;5;28;43;01mfor\u001b[39;49;00m\u001b[43m \u001b[49m\u001b[43minputs\u001b[49m\u001b[43m,\u001b[49m\u001b[43m \u001b[49m\u001b[43mlabels\u001b[49m\u001b[43m \u001b[49m\u001b[38;5;129;43;01min\u001b[39;49;00m\u001b[43m \u001b[49m\u001b[43mdataloader\u001b[49m\u001b[43m:\u001b[49m\n\u001b[1;32m     23\u001b[0m \u001b[43m    \u001b[49m\u001b[43minputs\u001b[49m\u001b[43m,\u001b[49m\u001b[43m \u001b[49m\u001b[43mlabels\u001b[49m\u001b[43m \u001b[49m\u001b[38;5;241;43m=\u001b[39;49m\u001b[43m \u001b[49m\u001b[43minputs\u001b[49m\u001b[38;5;241;43m.\u001b[39;49m\u001b[43mto\u001b[49m\u001b[43m(\u001b[49m\u001b[43mdevice\u001b[49m\u001b[43m)\u001b[49m\u001b[43m,\u001b[49m\u001b[43m \u001b[49m\u001b[43mlabels\u001b[49m\u001b[38;5;241;43m.\u001b[39;49m\u001b[43mto\u001b[49m\u001b[43m(\u001b[49m\u001b[43mdevice\u001b[49m\u001b[43m)\u001b[49m\n\u001b[1;32m     25\u001b[0m \u001b[43m    \u001b[49m\u001b[43moptimizer\u001b[49m\u001b[38;5;241;43m.\u001b[39;49m\u001b[43mzero_grad\u001b[49m\u001b[43m(\u001b[49m\u001b[43m)\u001b[49m\n",
      "File \u001b[0;32m~/.cache/pypoetry/virtualenvs/hmc-torch-Dk4O7H_f-py3.11/lib/python3.11/site-packages/torch/utils/data/dataloader.py:631\u001b[0m, in \u001b[0;36m_BaseDataLoaderIter.__next__\u001b[0;34m(self)\u001b[0m\n\u001b[1;32m    628\u001b[0m \u001b[38;5;28;01mif\u001b[39;00m \u001b[38;5;28mself\u001b[39m\u001b[38;5;241m.\u001b[39m_sampler_iter \u001b[38;5;129;01mis\u001b[39;00m \u001b[38;5;28;01mNone\u001b[39;00m:\n\u001b[1;32m    629\u001b[0m     \u001b[38;5;66;03m# TODO(https://github.com/pytorch/pytorch/issues/76750)\u001b[39;00m\n\u001b[1;32m    630\u001b[0m     \u001b[38;5;28mself\u001b[39m\u001b[38;5;241m.\u001b[39m_reset()  \u001b[38;5;66;03m# type: ignore[call-arg]\u001b[39;00m\n\u001b[0;32m--> 631\u001b[0m data \u001b[38;5;241m=\u001b[39m \u001b[38;5;28;43mself\u001b[39;49m\u001b[38;5;241;43m.\u001b[39;49m\u001b[43m_next_data\u001b[49m\u001b[43m(\u001b[49m\u001b[43m)\u001b[49m\n\u001b[1;32m    632\u001b[0m \u001b[38;5;28mself\u001b[39m\u001b[38;5;241m.\u001b[39m_num_yielded \u001b[38;5;241m+\u001b[39m\u001b[38;5;241m=\u001b[39m \u001b[38;5;241m1\u001b[39m\n\u001b[1;32m    633\u001b[0m \u001b[38;5;28;01mif\u001b[39;00m \u001b[38;5;28mself\u001b[39m\u001b[38;5;241m.\u001b[39m_dataset_kind \u001b[38;5;241m==\u001b[39m _DatasetKind\u001b[38;5;241m.\u001b[39mIterable \u001b[38;5;129;01mand\u001b[39;00m \\\n\u001b[1;32m    634\u001b[0m         \u001b[38;5;28mself\u001b[39m\u001b[38;5;241m.\u001b[39m_IterableDataset_len_called \u001b[38;5;129;01mis\u001b[39;00m \u001b[38;5;129;01mnot\u001b[39;00m \u001b[38;5;28;01mNone\u001b[39;00m \u001b[38;5;129;01mand\u001b[39;00m \\\n\u001b[1;32m    635\u001b[0m         \u001b[38;5;28mself\u001b[39m\u001b[38;5;241m.\u001b[39m_num_yielded \u001b[38;5;241m>\u001b[39m \u001b[38;5;28mself\u001b[39m\u001b[38;5;241m.\u001b[39m_IterableDataset_len_called:\n",
      "File \u001b[0;32m~/.cache/pypoetry/virtualenvs/hmc-torch-Dk4O7H_f-py3.11/lib/python3.11/site-packages/torch/utils/data/dataloader.py:675\u001b[0m, in \u001b[0;36m_SingleProcessDataLoaderIter._next_data\u001b[0;34m(self)\u001b[0m\n\u001b[1;32m    673\u001b[0m \u001b[38;5;28;01mdef\u001b[39;00m \u001b[38;5;21m_next_data\u001b[39m(\u001b[38;5;28mself\u001b[39m):\n\u001b[1;32m    674\u001b[0m     index \u001b[38;5;241m=\u001b[39m \u001b[38;5;28mself\u001b[39m\u001b[38;5;241m.\u001b[39m_next_index()  \u001b[38;5;66;03m# may raise StopIteration\u001b[39;00m\n\u001b[0;32m--> 675\u001b[0m     data \u001b[38;5;241m=\u001b[39m \u001b[38;5;28;43mself\u001b[39;49m\u001b[38;5;241;43m.\u001b[39;49m\u001b[43m_dataset_fetcher\u001b[49m\u001b[38;5;241;43m.\u001b[39;49m\u001b[43mfetch\u001b[49m\u001b[43m(\u001b[49m\u001b[43mindex\u001b[49m\u001b[43m)\u001b[49m  \u001b[38;5;66;03m# may raise StopIteration\u001b[39;00m\n\u001b[1;32m    676\u001b[0m     \u001b[38;5;28;01mif\u001b[39;00m \u001b[38;5;28mself\u001b[39m\u001b[38;5;241m.\u001b[39m_pin_memory:\n\u001b[1;32m    677\u001b[0m         data \u001b[38;5;241m=\u001b[39m _utils\u001b[38;5;241m.\u001b[39mpin_memory\u001b[38;5;241m.\u001b[39mpin_memory(data, \u001b[38;5;28mself\u001b[39m\u001b[38;5;241m.\u001b[39m_pin_memory_device)\n",
      "File \u001b[0;32m~/.cache/pypoetry/virtualenvs/hmc-torch-Dk4O7H_f-py3.11/lib/python3.11/site-packages/torch/utils/data/_utils/fetch.py:54\u001b[0m, in \u001b[0;36m_MapDatasetFetcher.fetch\u001b[0;34m(self, possibly_batched_index)\u001b[0m\n\u001b[1;32m     52\u001b[0m \u001b[38;5;28;01melse\u001b[39;00m:\n\u001b[1;32m     53\u001b[0m     data \u001b[38;5;241m=\u001b[39m \u001b[38;5;28mself\u001b[39m\u001b[38;5;241m.\u001b[39mdataset[possibly_batched_index]\n\u001b[0;32m---> 54\u001b[0m \u001b[38;5;28;01mreturn\u001b[39;00m \u001b[38;5;28;43mself\u001b[39;49m\u001b[38;5;241;43m.\u001b[39;49m\u001b[43mcollate_fn\u001b[49m\u001b[43m(\u001b[49m\u001b[43mdata\u001b[49m\u001b[43m)\u001b[49m\n",
      "Cell \u001b[0;32mIn[19], line 12\u001b[0m, in \u001b[0;36mpad_collate\u001b[0;34m(batch)\u001b[0m\n\u001b[1;32m     11\u001b[0m \u001b[38;5;28;01mdef\u001b[39;00m \u001b[38;5;21mpad_collate\u001b[39m(batch):\n\u001b[0;32m---> 12\u001b[0m     (inputs, labels) \u001b[38;5;241m=\u001b[39m \u001b[38;5;28mzip\u001b[39m(\u001b[38;5;241m*\u001b[39mbatch)\n\u001b[1;32m     14\u001b[0m     inputs_padded \u001b[38;5;241m=\u001b[39m pad_sequence(inputs, batch_first\u001b[38;5;241m=\u001b[39m\u001b[38;5;28;01mTrue\u001b[39;00m, padding_value\u001b[38;5;241m=\u001b[39m\u001b[38;5;241m0\u001b[39m)\n\u001b[1;32m     15\u001b[0m     labels_padded \u001b[38;5;241m=\u001b[39m pad_sequence(labels, batch_first\u001b[38;5;241m=\u001b[39m\u001b[38;5;28;01mTrue\u001b[39;00m, padding_value\u001b[38;5;241m=\u001b[39m\u001b[38;5;241m0\u001b[39m)\n",
      "\u001b[0;31mValueError\u001b[0m: too many values to unpack (expected 2)"
     ]
    }
   ],
   "source": [
    "\n",
    "time_start = dt.utcnow()\n",
    "print(\"[{}] Experiment started at {}\".format(id, time_start.strftime(\"%H:%M:%S\")))\n",
    "print(\".......................................\")\n",
    "#print(args)\n",
    "run(args)\n",
    "time_end = dt.utcnow()\n",
    "time_elapsed = time_end - time_start\n",
    "print(\".......................................\")\n",
    "print(\"[{}] Experiment finished at {} / elapsed time {}s\".format(id, time_end.strftime(\"%H:%M:%S\"), time_elapsed.total_seconds()))"
   ]
  },
  {
   "cell_type": "code",
   "execution_count": null,
   "id": "268f76e1-de7f-49db-9671-51c6793cd882",
   "metadata": {},
   "outputs": [],
   "source": []
  },
  {
   "cell_type": "code",
   "execution_count": null,
   "id": "eab810e8-1b94-4aa3-9460-b5d364e5e0af",
   "metadata": {},
   "outputs": [],
   "source": []
  },
  {
   "cell_type": "code",
   "execution_count": null,
   "id": "f979d48d-553c-48a4-afca-85edc1d2ed8a",
   "metadata": {},
   "outputs": [],
   "source": []
  }
 ],
 "metadata": {
  "kernelspec": {
   "display_name": "Python 3 (ipykernel)",
   "language": "python",
   "name": "python3"
  },
  "language_info": {
   "codemirror_mode": {
    "name": "ipython",
    "version": 3
   },
   "file_extension": ".py",
   "mimetype": "text/x-python",
   "name": "python",
   "nbconvert_exporter": "python",
   "pygments_lexer": "ipython3",
   "version": "3.12.3"
  }
 },
 "nbformat": 4,
 "nbformat_minor": 5
}
