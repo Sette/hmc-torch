{
 "cells": [
  {
   "cell_type": "code",
   "execution_count": 1,
   "id": "09d4c409-2a44-4d14-9ccd-e34adf054d7d",
   "metadata": {
    "ExecuteTime": {
     "end_time": "2024-09-05T21:55:57.388801Z",
     "start_time": "2024-09-05T21:55:55.985278Z"
    }
   },
   "outputs": [],
   "source": [
    "# %%\n",
    "import os\n",
    "import numpy as np\n",
    "from datetime import UTC\n",
    "from datetime import datetime as dt\n",
    "import pandas as pd"
   ]
  },
  {
   "cell_type": "code",
   "execution_count": 59,
   "id": "c217b240-324a-4e20-ac59-3d7d88671c2e",
   "metadata": {
    "ExecuteTime": {
     "end_time": "2024-09-05T21:55:59.719860Z",
     "start_time": "2024-09-05T21:55:59.714228Z"
    }
   },
   "outputs": [],
   "source": [
    "base_path = \"/home/bruno/storage/data/fma/trains/rock_electronic/jobs/20241006_140819\"\n",
    "predict_csv_path = os.path.join(base_path, 'predict.csv')"
   ]
  },
  {
   "cell_type": "code",
   "execution_count": 2,
   "id": "773e6a0e",
   "metadata": {},
   "outputs": [],
   "source": [
    "dataset_path = \"/home/bruno/storage/data/fma/trains/rock_electronic\""
   ]
  },
  {
   "cell_type": "code",
   "execution_count": null,
   "id": "a5ec93d6",
   "metadata": {},
   "outputs": [],
   "source": [
    "ds_test = HMCDataset(testset_path, self.levels_size, testset=True)\n",
    "df_test = ds_test.to_dataframe()"
   ]
  },
  {
   "cell_type": "code",
   "execution_count": 3,
   "id": "2e9c992a",
   "metadata": {},
   "outputs": [],
   "source": [
    "test_csv_path = os.path.join(dataset_path, 'test.csv')"
   ]
  },
  {
   "cell_type": "code",
   "execution_count": 62,
   "id": "f886f307",
   "metadata": {},
   "outputs": [],
   "source": [
    "df_predict = pd.read_csv(predict_csv_path)"
   ]
  },
  {
   "cell_type": "code",
   "execution_count": 4,
   "id": "1e8ab968",
   "metadata": {},
   "outputs": [],
   "source": [
    "df_test = pd.read_csv(test_csv_path)"
   ]
  },
  {
   "cell_type": "code",
   "execution_count": 5,
   "id": "2df90f30",
   "metadata": {},
   "outputs": [
    {
     "data": {
      "text/html": [
       "<div>\n",
       "<style scoped>\n",
       "    .dataframe tbody tr th:only-of-type {\n",
       "        vertical-align: middle;\n",
       "    }\n",
       "\n",
       "    .dataframe tbody tr th {\n",
       "        vertical-align: top;\n",
       "    }\n",
       "\n",
       "    .dataframe thead th {\n",
       "        text-align: right;\n",
       "    }\n",
       "</style>\n",
       "<table border=\"1\" class=\"dataframe\">\n",
       "  <thead>\n",
       "    <tr style=\"text-align: right;\">\n",
       "      <th></th>\n",
       "      <th>track_genres_all</th>\n",
       "      <th>track_id</th>\n",
       "      <th>file_path</th>\n",
       "      <th>index</th>\n",
       "      <th>track_genre_top</th>\n",
       "      <th>y_true</th>\n",
       "      <th>level1</th>\n",
       "      <th>level2</th>\n",
       "      <th>level3</th>\n",
       "      <th>level4</th>\n",
       "      <th>all_binarized</th>\n",
       "    </tr>\n",
       "  </thead>\n",
       "  <tbody>\n",
       "    <tr>\n",
       "      <th>0</th>\n",
       "      <td>[66, 12]</td>\n",
       "      <td>33038</td>\n",
       "      <td>/mnt/disks/data/fma/fma_large/033/033038.mp3</td>\n",
       "      <td>21041</td>\n",
       "      <td>Rock</td>\n",
       "      <td>[[12, 66]]</td>\n",
       "      <td>[1, 0]</td>\n",
       "      <td>[0, 0, 0, 0, 0, 0, 0, 0, 1, 0, 0, 0, 0, 0, 0, ...</td>\n",
       "      <td>[0, 0, 0, 0, 0, 0, 0, 0, 0, 0, 0, 0, 0, 0, 0]</td>\n",
       "      <td>[0, 0]</td>\n",
       "      <td>[[1, 0], [0, 0, 0, 0, 0, 0, 0, 0, 1, 0, 0, 0, ...</td>\n",
       "    </tr>\n",
       "    <tr>\n",
       "      <th>1</th>\n",
       "      <td>[183, 286, 15]</td>\n",
       "      <td>98938</td>\n",
       "      <td>/mnt/disks/data/fma/fma_large/098/098938.mp3</td>\n",
       "      <td>66294</td>\n",
       "      <td>Electronic</td>\n",
       "      <td>[[15, 183], [15, 286]]</td>\n",
       "      <td>[0, 1]</td>\n",
       "      <td>[0, 0, 0, 0, 0, 0, 0, 0, 0, 0, 0, 0, 0, 0, 0, ...</td>\n",
       "      <td>[0, 0, 0, 0, 0, 0, 0, 0, 0, 0, 0, 0, 0, 0, 0]</td>\n",
       "      <td>[0, 0]</td>\n",
       "      <td>[[0, 1], [0, 0, 0, 0, 0, 0, 0, 0, 0, 0, 0, 0, ...</td>\n",
       "    </tr>\n",
       "    <tr>\n",
       "      <th>2</th>\n",
       "      <td>[15]</td>\n",
       "      <td>6775</td>\n",
       "      <td>/mnt/disks/data/fma/fma_large/006/006775.mp3</td>\n",
       "      <td>3560</td>\n",
       "      <td>Electronic</td>\n",
       "      <td>[[15]]</td>\n",
       "      <td>[0, 1]</td>\n",
       "      <td>[0, 0, 0, 0, 0, 0, 0, 0, 0, 0, 0, 0, 0, 0, 0, ...</td>\n",
       "      <td>[0, 0, 0, 0, 0, 0, 0, 0, 0, 0, 0, 0, 0, 0, 0]</td>\n",
       "      <td>[0, 0]</td>\n",
       "      <td>[[0, 1], [0, 0, 0, 0, 0, 0, 0, 0, 0, 0, 0, 0, ...</td>\n",
       "    </tr>\n",
       "    <tr>\n",
       "      <th>3</th>\n",
       "      <td>[181, 15]</td>\n",
       "      <td>63354</td>\n",
       "      <td>/mnt/disks/data/fma/fma_large/063/063354.mp3</td>\n",
       "      <td>42675</td>\n",
       "      <td>Electronic</td>\n",
       "      <td>[[15, 181]]</td>\n",
       "      <td>[0, 1]</td>\n",
       "      <td>[0, 0, 0, 0, 0, 0, 0, 0, 0, 0, 0, 0, 0, 1, 0, ...</td>\n",
       "      <td>[0, 0, 0, 0, 0, 0, 0, 0, 0, 0, 0, 0, 0, 0, 0]</td>\n",
       "      <td>[0, 0]</td>\n",
       "      <td>[[0, 1], [0, 0, 0, 0, 0, 0, 0, 0, 0, 0, 0, 0, ...</td>\n",
       "    </tr>\n",
       "    <tr>\n",
       "      <th>4</th>\n",
       "      <td>[25, 12, 109]</td>\n",
       "      <td>67165</td>\n",
       "      <td>/mnt/disks/data/fma/fma_large/067/067165.mp3</td>\n",
       "      <td>45761</td>\n",
       "      <td>Rock</td>\n",
       "      <td>[[12, 25, 109]]</td>\n",
       "      <td>[1, 0]</td>\n",
       "      <td>[1, 0, 0, 0, 0, 0, 0, 0, 0, 0, 0, 0, 0, 0, 0, ...</td>\n",
       "      <td>[0, 0, 0, 0, 0, 1, 0, 0, 0, 0, 0, 0, 0, 0, 0]</td>\n",
       "      <td>[0, 0]</td>\n",
       "      <td>[[1, 0], [1, 0, 0, 0, 0, 0, 0, 0, 0, 0, 0, 0, ...</td>\n",
       "    </tr>\n",
       "    <tr>\n",
       "      <th>...</th>\n",
       "      <td>...</td>\n",
       "      <td>...</td>\n",
       "      <td>...</td>\n",
       "      <td>...</td>\n",
       "      <td>...</td>\n",
       "      <td>...</td>\n",
       "      <td>...</td>\n",
       "      <td>...</td>\n",
       "      <td>...</td>\n",
       "      <td>...</td>\n",
       "      <td>...</td>\n",
       "    </tr>\n",
       "    <tr>\n",
       "      <th>4809</th>\n",
       "      <td>[12]</td>\n",
       "      <td>3751</td>\n",
       "      <td>/mnt/disks/data/fma/fma_large/003/003751.mp3</td>\n",
       "      <td>2052</td>\n",
       "      <td>Rock</td>\n",
       "      <td>[[12]]</td>\n",
       "      <td>[1, 0]</td>\n",
       "      <td>[0, 0, 0, 0, 0, 0, 0, 0, 0, 0, 0, 0, 0, 0, 0, ...</td>\n",
       "      <td>[0, 0, 0, 0, 0, 0, 0, 0, 0, 0, 0, 0, 0, 0, 0]</td>\n",
       "      <td>[0, 0]</td>\n",
       "      <td>[[1, 0], [0, 0, 0, 0, 0, 0, 0, 0, 0, 0, 0, 0, ...</td>\n",
       "    </tr>\n",
       "    <tr>\n",
       "      <th>4810</th>\n",
       "      <td>[183, 495, 15]</td>\n",
       "      <td>99310</td>\n",
       "      <td>/mnt/disks/data/fma/fma_large/099/099310.mp3</td>\n",
       "      <td>66578</td>\n",
       "      <td>Electronic</td>\n",
       "      <td>[[15, 183], [15, 495]]</td>\n",
       "      <td>[0, 1]</td>\n",
       "      <td>[0, 0, 0, 0, 0, 0, 0, 0, 0, 0, 0, 0, 0, 0, 0, ...</td>\n",
       "      <td>[0, 0, 0, 0, 0, 0, 0, 0, 0, 0, 0, 0, 0, 0, 0]</td>\n",
       "      <td>[0, 0]</td>\n",
       "      <td>[[0, 1], [0, 0, 0, 0, 0, 0, 0, 0, 0, 0, 0, 0, ...</td>\n",
       "    </tr>\n",
       "    <tr>\n",
       "      <th>4811</th>\n",
       "      <td>[25, 12, 109, 31]</td>\n",
       "      <td>75793</td>\n",
       "      <td>/mnt/disks/data/fma/fma_large/075/075793.mp3</td>\n",
       "      <td>51944</td>\n",
       "      <td>Rock</td>\n",
       "      <td>[[12, 25, 109]]</td>\n",
       "      <td>[1, 0]</td>\n",
       "      <td>[1, 0, 0, 0, 0, 0, 0, 0, 0, 0, 0, 0, 0, 0, 0, ...</td>\n",
       "      <td>[0, 0, 0, 0, 0, 1, 0, 0, 0, 0, 0, 0, 0, 0, 0]</td>\n",
       "      <td>[0, 0]</td>\n",
       "      <td>[[1, 0], [1, 0, 0, 0, 0, 0, 0, 0, 0, 0, 0, 0, ...</td>\n",
       "    </tr>\n",
       "    <tr>\n",
       "      <th>4812</th>\n",
       "      <td>[27, 12, 359]</td>\n",
       "      <td>51360</td>\n",
       "      <td>/mnt/disks/data/fma/fma_large/051/051360.mp3</td>\n",
       "      <td>33790</td>\n",
       "      <td>Rock</td>\n",
       "      <td>[[12, 27], [12, 359]]</td>\n",
       "      <td>[1, 0]</td>\n",
       "      <td>[0, 0, 1, 0, 0, 0, 0, 0, 0, 0, 0, 0, 0, 0, 0, ...</td>\n",
       "      <td>[0, 0, 0, 0, 0, 0, 0, 0, 0, 0, 0, 0, 0, 0, 0]</td>\n",
       "      <td>[0, 0]</td>\n",
       "      <td>[[1, 0], [0, 0, 1, 0, 0, 0, 0, 0, 0, 0, 0, 0, ...</td>\n",
       "    </tr>\n",
       "    <tr>\n",
       "      <th>4813</th>\n",
       "      <td>[183, 42, 236, 15]</td>\n",
       "      <td>54128</td>\n",
       "      <td>/mnt/disks/data/fma/fma_large/054/054128.mp3</td>\n",
       "      <td>35913</td>\n",
       "      <td>Electronic</td>\n",
       "      <td>[[15, 183], [15, 42], [15, 236]]</td>\n",
       "      <td>[0, 1]</td>\n",
       "      <td>[0, 0, 0, 0, 0, 1, 0, 0, 0, 0, 0, 0, 0, 0, 0, ...</td>\n",
       "      <td>[0, 0, 0, 0, 0, 0, 0, 0, 0, 0, 0, 0, 0, 0, 0]</td>\n",
       "      <td>[0, 0]</td>\n",
       "      <td>[[0, 1], [0, 0, 0, 0, 0, 1, 0, 0, 0, 0, 0, 0, ...</td>\n",
       "    </tr>\n",
       "  </tbody>\n",
       "</table>\n",
       "<p>4814 rows × 11 columns</p>\n",
       "</div>"
      ],
      "text/plain": [
       "        track_genres_all  track_id  \\\n",
       "0               [66, 12]     33038   \n",
       "1         [183, 286, 15]     98938   \n",
       "2                   [15]      6775   \n",
       "3              [181, 15]     63354   \n",
       "4          [25, 12, 109]     67165   \n",
       "...                  ...       ...   \n",
       "4809                [12]      3751   \n",
       "4810      [183, 495, 15]     99310   \n",
       "4811   [25, 12, 109, 31]     75793   \n",
       "4812       [27, 12, 359]     51360   \n",
       "4813  [183, 42, 236, 15]     54128   \n",
       "\n",
       "                                         file_path  index track_genre_top  \\\n",
       "0     /mnt/disks/data/fma/fma_large/033/033038.mp3  21041            Rock   \n",
       "1     /mnt/disks/data/fma/fma_large/098/098938.mp3  66294      Electronic   \n",
       "2     /mnt/disks/data/fma/fma_large/006/006775.mp3   3560      Electronic   \n",
       "3     /mnt/disks/data/fma/fma_large/063/063354.mp3  42675      Electronic   \n",
       "4     /mnt/disks/data/fma/fma_large/067/067165.mp3  45761            Rock   \n",
       "...                                            ...    ...             ...   \n",
       "4809  /mnt/disks/data/fma/fma_large/003/003751.mp3   2052            Rock   \n",
       "4810  /mnt/disks/data/fma/fma_large/099/099310.mp3  66578      Electronic   \n",
       "4811  /mnt/disks/data/fma/fma_large/075/075793.mp3  51944            Rock   \n",
       "4812  /mnt/disks/data/fma/fma_large/051/051360.mp3  33790            Rock   \n",
       "4813  /mnt/disks/data/fma/fma_large/054/054128.mp3  35913      Electronic   \n",
       "\n",
       "                                y_true  level1  \\\n",
       "0                           [[12, 66]]  [1, 0]   \n",
       "1               [[15, 183], [15, 286]]  [0, 1]   \n",
       "2                               [[15]]  [0, 1]   \n",
       "3                          [[15, 181]]  [0, 1]   \n",
       "4                      [[12, 25, 109]]  [1, 0]   \n",
       "...                                ...     ...   \n",
       "4809                            [[12]]  [1, 0]   \n",
       "4810            [[15, 183], [15, 495]]  [0, 1]   \n",
       "4811                   [[12, 25, 109]]  [1, 0]   \n",
       "4812             [[12, 27], [12, 359]]  [1, 0]   \n",
       "4813  [[15, 183], [15, 42], [15, 236]]  [0, 1]   \n",
       "\n",
       "                                                 level2  \\\n",
       "0     [0, 0, 0, 0, 0, 0, 0, 0, 1, 0, 0, 0, 0, 0, 0, ...   \n",
       "1     [0, 0, 0, 0, 0, 0, 0, 0, 0, 0, 0, 0, 0, 0, 0, ...   \n",
       "2     [0, 0, 0, 0, 0, 0, 0, 0, 0, 0, 0, 0, 0, 0, 0, ...   \n",
       "3     [0, 0, 0, 0, 0, 0, 0, 0, 0, 0, 0, 0, 0, 1, 0, ...   \n",
       "4     [1, 0, 0, 0, 0, 0, 0, 0, 0, 0, 0, 0, 0, 0, 0, ...   \n",
       "...                                                 ...   \n",
       "4809  [0, 0, 0, 0, 0, 0, 0, 0, 0, 0, 0, 0, 0, 0, 0, ...   \n",
       "4810  [0, 0, 0, 0, 0, 0, 0, 0, 0, 0, 0, 0, 0, 0, 0, ...   \n",
       "4811  [1, 0, 0, 0, 0, 0, 0, 0, 0, 0, 0, 0, 0, 0, 0, ...   \n",
       "4812  [0, 0, 1, 0, 0, 0, 0, 0, 0, 0, 0, 0, 0, 0, 0, ...   \n",
       "4813  [0, 0, 0, 0, 0, 1, 0, 0, 0, 0, 0, 0, 0, 0, 0, ...   \n",
       "\n",
       "                                             level3  level4  \\\n",
       "0     [0, 0, 0, 0, 0, 0, 0, 0, 0, 0, 0, 0, 0, 0, 0]  [0, 0]   \n",
       "1     [0, 0, 0, 0, 0, 0, 0, 0, 0, 0, 0, 0, 0, 0, 0]  [0, 0]   \n",
       "2     [0, 0, 0, 0, 0, 0, 0, 0, 0, 0, 0, 0, 0, 0, 0]  [0, 0]   \n",
       "3     [0, 0, 0, 0, 0, 0, 0, 0, 0, 0, 0, 0, 0, 0, 0]  [0, 0]   \n",
       "4     [0, 0, 0, 0, 0, 1, 0, 0, 0, 0, 0, 0, 0, 0, 0]  [0, 0]   \n",
       "...                                             ...     ...   \n",
       "4809  [0, 0, 0, 0, 0, 0, 0, 0, 0, 0, 0, 0, 0, 0, 0]  [0, 0]   \n",
       "4810  [0, 0, 0, 0, 0, 0, 0, 0, 0, 0, 0, 0, 0, 0, 0]  [0, 0]   \n",
       "4811  [0, 0, 0, 0, 0, 1, 0, 0, 0, 0, 0, 0, 0, 0, 0]  [0, 0]   \n",
       "4812  [0, 0, 0, 0, 0, 0, 0, 0, 0, 0, 0, 0, 0, 0, 0]  [0, 0]   \n",
       "4813  [0, 0, 0, 0, 0, 0, 0, 0, 0, 0, 0, 0, 0, 0, 0]  [0, 0]   \n",
       "\n",
       "                                          all_binarized  \n",
       "0     [[1, 0], [0, 0, 0, 0, 0, 0, 0, 0, 1, 0, 0, 0, ...  \n",
       "1     [[0, 1], [0, 0, 0, 0, 0, 0, 0, 0, 0, 0, 0, 0, ...  \n",
       "2     [[0, 1], [0, 0, 0, 0, 0, 0, 0, 0, 0, 0, 0, 0, ...  \n",
       "3     [[0, 1], [0, 0, 0, 0, 0, 0, 0, 0, 0, 0, 0, 0, ...  \n",
       "4     [[1, 0], [1, 0, 0, 0, 0, 0, 0, 0, 0, 0, 0, 0, ...  \n",
       "...                                                 ...  \n",
       "4809  [[1, 0], [0, 0, 0, 0, 0, 0, 0, 0, 0, 0, 0, 0, ...  \n",
       "4810  [[0, 1], [0, 0, 0, 0, 0, 0, 0, 0, 0, 0, 0, 0, ...  \n",
       "4811  [[1, 0], [1, 0, 0, 0, 0, 0, 0, 0, 0, 0, 0, 0, ...  \n",
       "4812  [[1, 0], [0, 0, 1, 0, 0, 0, 0, 0, 0, 0, 0, 0, ...  \n",
       "4813  [[0, 1], [0, 0, 0, 0, 0, 1, 0, 0, 0, 0, 0, 0, ...  \n",
       "\n",
       "[4814 rows x 11 columns]"
      ]
     },
     "execution_count": 5,
     "metadata": {},
     "output_type": "execute_result"
    }
   ],
   "source": [
    "df_test"
   ]
  },
  {
   "cell_type": "code",
   "execution_count": 65,
   "id": "7864fcab",
   "metadata": {},
   "outputs": [
    {
     "data": {
      "text/html": [
       "<div>\n",
       "<style scoped>\n",
       "    .dataframe tbody tr th:only-of-type {\n",
       "        vertical-align: middle;\n",
       "    }\n",
       "\n",
       "    .dataframe tbody tr th {\n",
       "        vertical-align: top;\n",
       "    }\n",
       "\n",
       "    .dataframe thead th {\n",
       "        text-align: right;\n",
       "    }\n",
       "</style>\n",
       "<table border=\"1\" class=\"dataframe\">\n",
       "  <thead>\n",
       "    <tr style=\"text-align: right;\">\n",
       "      <th></th>\n",
       "      <th>features</th>\n",
       "      <th>labels</th>\n",
       "      <th>predictions</th>\n",
       "    </tr>\n",
       "  </thead>\n",
       "  <tbody>\n",
       "    <tr>\n",
       "      <th>0</th>\n",
       "      <td>[ 0.03773681 -0.01929126 -0.03145949 ...  0.10...</td>\n",
       "      <td>{'level1': [1, 0], 'level2': [1, 0, 0, 0, 0, 0...</td>\n",
       "      <td>[array([1, 0]), array([1, 0, 0, 0, 0, 0, 0, 0,...</td>\n",
       "    </tr>\n",
       "    <tr>\n",
       "      <th>1</th>\n",
       "      <td>[ 0.21734194 -0.02426917 -0.03016697 ... -0.03...</td>\n",
       "      <td>{'level1': [1, 0], 'level2': [1, 0, 0, 0, 0, 0...</td>\n",
       "      <td>[array([1, 0]), array([1, 0, 0, 0, 0, 0, 0, 0,...</td>\n",
       "    </tr>\n",
       "    <tr>\n",
       "      <th>2</th>\n",
       "      <td>[ 0.10179693  0.00760392  0.0485235  ...  0.02...</td>\n",
       "      <td>{'level1': [1, 0], 'level2': [1, 0, 0, 0, 0, 0...</td>\n",
       "      <td>[array([1, 0]), array([1, 0, 0, 0, 0, 0, 0, 0,...</td>\n",
       "    </tr>\n",
       "    <tr>\n",
       "      <th>3</th>\n",
       "      <td>[-0.05222222  0.01605514  0.04805453 ...  0.01...</td>\n",
       "      <td>{'level1': [1, 0], 'level2': [1, 0, 0, 0, 0, 0...</td>\n",
       "      <td>[array([1, 0]), array([1, 0, 0, 0, 0, 0, 0, 0,...</td>\n",
       "    </tr>\n",
       "    <tr>\n",
       "      <th>4</th>\n",
       "      <td>[ 0.07306546  0.0011052  -0.00153706 ...  0.01...</td>\n",
       "      <td>{'level1': [1, 0], 'level2': [1, 0, 0, 0, 0, 0...</td>\n",
       "      <td>[array([1, 0]), array([1, 0, 0, 0, 0, 0, 0, 0,...</td>\n",
       "    </tr>\n",
       "    <tr>\n",
       "      <th>...</th>\n",
       "      <td>...</td>\n",
       "      <td>...</td>\n",
       "      <td>...</td>\n",
       "    </tr>\n",
       "    <tr>\n",
       "      <th>4809</th>\n",
       "      <td>[ 0.03156375  0.05294544 -0.06201471 ... -0.01...</td>\n",
       "      <td>{'level1': [1, 0], 'level2': [1, 0, 0, 0, 0, 0...</td>\n",
       "      <td>[array([1, 0]), array([1, 0, 0, 0, 0, 0, 0, 0,...</td>\n",
       "    </tr>\n",
       "    <tr>\n",
       "      <th>4810</th>\n",
       "      <td>[ 0.00063215 -0.02915802  0.07697961 ... -0.04...</td>\n",
       "      <td>{'level1': [1, 0], 'level2': [1, 0, 0, 0, 0, 0...</td>\n",
       "      <td>[array([1, 0]), array([1, 0, 0, 0, 0, 0, 0, 0,...</td>\n",
       "    </tr>\n",
       "    <tr>\n",
       "      <th>4811</th>\n",
       "      <td>[-0.0384805   0.06769785  0.07464463 ... -0.03...</td>\n",
       "      <td>{'level1': [1, 0], 'level2': [1, 0, 0, 0, 0, 0...</td>\n",
       "      <td>[array([0, 1]), array([1, 0, 0, 0, 0, 0, 0, 0,...</td>\n",
       "    </tr>\n",
       "    <tr>\n",
       "      <th>4812</th>\n",
       "      <td>[-0.00729402  0.0023139  -0.02021546 ...  0.03...</td>\n",
       "      <td>{'level1': [1, 0], 'level2': [1, 0, 0, 0, 0, 0...</td>\n",
       "      <td>[array([0, 1]), array([1, 0, 0, 0, 0, 0, 0, 0,...</td>\n",
       "    </tr>\n",
       "    <tr>\n",
       "      <th>4813</th>\n",
       "      <td>[ 0.01400237  0.17711258 -0.05195987 ...  0.00...</td>\n",
       "      <td>{'level1': [1, 0], 'level2': [1, 0, 0, 0, 0, 0...</td>\n",
       "      <td>[array([1, 0]), array([1, 0, 0, 0, 0, 0, 0, 0,...</td>\n",
       "    </tr>\n",
       "  </tbody>\n",
       "</table>\n",
       "<p>4814 rows × 3 columns</p>\n",
       "</div>"
      ],
      "text/plain": [
       "                                               features  \\\n",
       "0     [ 0.03773681 -0.01929126 -0.03145949 ...  0.10...   \n",
       "1     [ 0.21734194 -0.02426917 -0.03016697 ... -0.03...   \n",
       "2     [ 0.10179693  0.00760392  0.0485235  ...  0.02...   \n",
       "3     [-0.05222222  0.01605514  0.04805453 ...  0.01...   \n",
       "4     [ 0.07306546  0.0011052  -0.00153706 ...  0.01...   \n",
       "...                                                 ...   \n",
       "4809  [ 0.03156375  0.05294544 -0.06201471 ... -0.01...   \n",
       "4810  [ 0.00063215 -0.02915802  0.07697961 ... -0.04...   \n",
       "4811  [-0.0384805   0.06769785  0.07464463 ... -0.03...   \n",
       "4812  [-0.00729402  0.0023139  -0.02021546 ...  0.03...   \n",
       "4813  [ 0.01400237  0.17711258 -0.05195987 ...  0.00...   \n",
       "\n",
       "                                                 labels  \\\n",
       "0     {'level1': [1, 0], 'level2': [1, 0, 0, 0, 0, 0...   \n",
       "1     {'level1': [1, 0], 'level2': [1, 0, 0, 0, 0, 0...   \n",
       "2     {'level1': [1, 0], 'level2': [1, 0, 0, 0, 0, 0...   \n",
       "3     {'level1': [1, 0], 'level2': [1, 0, 0, 0, 0, 0...   \n",
       "4     {'level1': [1, 0], 'level2': [1, 0, 0, 0, 0, 0...   \n",
       "...                                                 ...   \n",
       "4809  {'level1': [1, 0], 'level2': [1, 0, 0, 0, 0, 0...   \n",
       "4810  {'level1': [1, 0], 'level2': [1, 0, 0, 0, 0, 0...   \n",
       "4811  {'level1': [1, 0], 'level2': [1, 0, 0, 0, 0, 0...   \n",
       "4812  {'level1': [1, 0], 'level2': [1, 0, 0, 0, 0, 0...   \n",
       "4813  {'level1': [1, 0], 'level2': [1, 0, 0, 0, 0, 0...   \n",
       "\n",
       "                                            predictions  \n",
       "0     [array([1, 0]), array([1, 0, 0, 0, 0, 0, 0, 0,...  \n",
       "1     [array([1, 0]), array([1, 0, 0, 0, 0, 0, 0, 0,...  \n",
       "2     [array([1, 0]), array([1, 0, 0, 0, 0, 0, 0, 0,...  \n",
       "3     [array([1, 0]), array([1, 0, 0, 0, 0, 0, 0, 0,...  \n",
       "4     [array([1, 0]), array([1, 0, 0, 0, 0, 0, 0, 0,...  \n",
       "...                                                 ...  \n",
       "4809  [array([1, 0]), array([1, 0, 0, 0, 0, 0, 0, 0,...  \n",
       "4810  [array([1, 0]), array([1, 0, 0, 0, 0, 0, 0, 0,...  \n",
       "4811  [array([0, 1]), array([1, 0, 0, 0, 0, 0, 0, 0,...  \n",
       "4812  [array([0, 1]), array([1, 0, 0, 0, 0, 0, 0, 0,...  \n",
       "4813  [array([1, 0]), array([1, 0, 0, 0, 0, 0, 0, 0,...  \n",
       "\n",
       "[4814 rows x 3 columns]"
      ]
     },
     "execution_count": 65,
     "metadata": {},
     "output_type": "execute_result"
    }
   ],
   "source": [
    "df_predict"
   ]
  },
  {
   "cell_type": "code",
   "execution_count": 66,
   "id": "9107ec54",
   "metadata": {},
   "outputs": [
    {
     "data": {
      "text/plain": [
       "'[0, 1]'"
      ]
     },
     "execution_count": 66,
     "metadata": {},
     "output_type": "execute_result"
    }
   ],
   "source": [
    "df_test.level1[4811]"
   ]
  },
  {
   "cell_type": "code",
   "execution_count": 56,
   "id": "75bef15d",
   "metadata": {},
   "outputs": [],
   "source": [
    "# Função para converter a string em lista de np.array\n",
    "def convert_to_list_of_arrays(val):\n",
    "    # Converte string para uma lista de strings\n",
    "    list_str = ast.literal_eval(val)\n",
    "    # Converte cada item da lista para um array NumPy\n",
    "    return [np.array(item) for item in list_str]\n"
   ]
  },
  {
   "cell_type": "code",
   "execution_count": 57,
   "id": "be8feeb2",
   "metadata": {},
   "outputs": [
    {
     "ename": "NameError",
     "evalue": "name 'ast' is not defined",
     "output_type": "error",
     "traceback": [
      "\u001b[0;31m---------------------------------------------------------------------------\u001b[0m",
      "\u001b[0;31mNameError\u001b[0m                                 Traceback (most recent call last)",
      "Cell \u001b[0;32mIn[57], line 2\u001b[0m\n\u001b[1;32m      1\u001b[0m \u001b[38;5;66;03m# Aplicar ast.literal_eval para converter as strings em listas\u001b[39;00m\n\u001b[0;32m----> 2\u001b[0m df_test[\u001b[38;5;124m'\u001b[39m\u001b[38;5;124mall_binarized\u001b[39m\u001b[38;5;124m'\u001b[39m] \u001b[38;5;241m=\u001b[39m \u001b[43mdf_test\u001b[49m\u001b[38;5;241;43m.\u001b[39;49m\u001b[43mall_binarized\u001b[49m\u001b[38;5;241;43m.\u001b[39;49m\u001b[43mapply\u001b[49m\u001b[43m(\u001b[49m\u001b[43mconvert_to_list_of_arrays\u001b[49m\u001b[43m)\u001b[49m\n",
      "File \u001b[0;32m~/.cache/pypoetry/virtualenvs/hmc-Dk4O7H_f-py3.12/lib/python3.12/site-packages/pandas/core/series.py:4924\u001b[0m, in \u001b[0;36mSeries.apply\u001b[0;34m(self, func, convert_dtype, args, by_row, **kwargs)\u001b[0m\n\u001b[1;32m   4789\u001b[0m \u001b[38;5;28;01mdef\u001b[39;00m \u001b[38;5;21mapply\u001b[39m(\n\u001b[1;32m   4790\u001b[0m     \u001b[38;5;28mself\u001b[39m,\n\u001b[1;32m   4791\u001b[0m     func: AggFuncType,\n\u001b[0;32m   (...)\u001b[0m\n\u001b[1;32m   4796\u001b[0m     \u001b[38;5;241m*\u001b[39m\u001b[38;5;241m*\u001b[39mkwargs,\n\u001b[1;32m   4797\u001b[0m ) \u001b[38;5;241m-\u001b[39m\u001b[38;5;241m>\u001b[39m DataFrame \u001b[38;5;241m|\u001b[39m Series:\n\u001b[1;32m   4798\u001b[0m \u001b[38;5;250m    \u001b[39m\u001b[38;5;124;03m\"\"\"\u001b[39;00m\n\u001b[1;32m   4799\u001b[0m \u001b[38;5;124;03m    Invoke function on values of Series.\u001b[39;00m\n\u001b[1;32m   4800\u001b[0m \n\u001b[0;32m   (...)\u001b[0m\n\u001b[1;32m   4915\u001b[0m \u001b[38;5;124;03m    dtype: float64\u001b[39;00m\n\u001b[1;32m   4916\u001b[0m \u001b[38;5;124;03m    \"\"\"\u001b[39;00m\n\u001b[1;32m   4917\u001b[0m     \u001b[38;5;28;01mreturn\u001b[39;00m \u001b[43mSeriesApply\u001b[49m\u001b[43m(\u001b[49m\n\u001b[1;32m   4918\u001b[0m \u001b[43m        \u001b[49m\u001b[38;5;28;43mself\u001b[39;49m\u001b[43m,\u001b[49m\n\u001b[1;32m   4919\u001b[0m \u001b[43m        \u001b[49m\u001b[43mfunc\u001b[49m\u001b[43m,\u001b[49m\n\u001b[1;32m   4920\u001b[0m \u001b[43m        \u001b[49m\u001b[43mconvert_dtype\u001b[49m\u001b[38;5;241;43m=\u001b[39;49m\u001b[43mconvert_dtype\u001b[49m\u001b[43m,\u001b[49m\n\u001b[1;32m   4921\u001b[0m \u001b[43m        \u001b[49m\u001b[43mby_row\u001b[49m\u001b[38;5;241;43m=\u001b[39;49m\u001b[43mby_row\u001b[49m\u001b[43m,\u001b[49m\n\u001b[1;32m   4922\u001b[0m \u001b[43m        \u001b[49m\u001b[43margs\u001b[49m\u001b[38;5;241;43m=\u001b[39;49m\u001b[43margs\u001b[49m\u001b[43m,\u001b[49m\n\u001b[1;32m   4923\u001b[0m \u001b[43m        \u001b[49m\u001b[43mkwargs\u001b[49m\u001b[38;5;241;43m=\u001b[39;49m\u001b[43mkwargs\u001b[49m\u001b[43m,\u001b[49m\n\u001b[0;32m-> 4924\u001b[0m \u001b[43m    \u001b[49m\u001b[43m)\u001b[49m\u001b[38;5;241;43m.\u001b[39;49m\u001b[43mapply\u001b[49m\u001b[43m(\u001b[49m\u001b[43m)\u001b[49m\n",
      "File \u001b[0;32m~/.cache/pypoetry/virtualenvs/hmc-Dk4O7H_f-py3.12/lib/python3.12/site-packages/pandas/core/apply.py:1427\u001b[0m, in \u001b[0;36mSeriesApply.apply\u001b[0;34m(self)\u001b[0m\n\u001b[1;32m   1424\u001b[0m     \u001b[38;5;28;01mreturn\u001b[39;00m \u001b[38;5;28mself\u001b[39m\u001b[38;5;241m.\u001b[39mapply_compat()\n\u001b[1;32m   1426\u001b[0m \u001b[38;5;66;03m# self.func is Callable\u001b[39;00m\n\u001b[0;32m-> 1427\u001b[0m \u001b[38;5;28;01mreturn\u001b[39;00m \u001b[38;5;28;43mself\u001b[39;49m\u001b[38;5;241;43m.\u001b[39;49m\u001b[43mapply_standard\u001b[49m\u001b[43m(\u001b[49m\u001b[43m)\u001b[49m\n",
      "File \u001b[0;32m~/.cache/pypoetry/virtualenvs/hmc-Dk4O7H_f-py3.12/lib/python3.12/site-packages/pandas/core/apply.py:1507\u001b[0m, in \u001b[0;36mSeriesApply.apply_standard\u001b[0;34m(self)\u001b[0m\n\u001b[1;32m   1501\u001b[0m \u001b[38;5;66;03m# row-wise access\u001b[39;00m\n\u001b[1;32m   1502\u001b[0m \u001b[38;5;66;03m# apply doesn't have a `na_action` keyword and for backward compat reasons\u001b[39;00m\n\u001b[1;32m   1503\u001b[0m \u001b[38;5;66;03m# we need to give `na_action=\"ignore\"` for categorical data.\u001b[39;00m\n\u001b[1;32m   1504\u001b[0m \u001b[38;5;66;03m# TODO: remove the `na_action=\"ignore\"` when that default has been changed in\u001b[39;00m\n\u001b[1;32m   1505\u001b[0m \u001b[38;5;66;03m#  Categorical (GH51645).\u001b[39;00m\n\u001b[1;32m   1506\u001b[0m action \u001b[38;5;241m=\u001b[39m \u001b[38;5;124m\"\u001b[39m\u001b[38;5;124mignore\u001b[39m\u001b[38;5;124m\"\u001b[39m \u001b[38;5;28;01mif\u001b[39;00m \u001b[38;5;28misinstance\u001b[39m(obj\u001b[38;5;241m.\u001b[39mdtype, CategoricalDtype) \u001b[38;5;28;01melse\u001b[39;00m \u001b[38;5;28;01mNone\u001b[39;00m\n\u001b[0;32m-> 1507\u001b[0m mapped \u001b[38;5;241m=\u001b[39m \u001b[43mobj\u001b[49m\u001b[38;5;241;43m.\u001b[39;49m\u001b[43m_map_values\u001b[49m\u001b[43m(\u001b[49m\n\u001b[1;32m   1508\u001b[0m \u001b[43m    \u001b[49m\u001b[43mmapper\u001b[49m\u001b[38;5;241;43m=\u001b[39;49m\u001b[43mcurried\u001b[49m\u001b[43m,\u001b[49m\u001b[43m \u001b[49m\u001b[43mna_action\u001b[49m\u001b[38;5;241;43m=\u001b[39;49m\u001b[43maction\u001b[49m\u001b[43m,\u001b[49m\u001b[43m \u001b[49m\u001b[43mconvert\u001b[49m\u001b[38;5;241;43m=\u001b[39;49m\u001b[38;5;28;43mself\u001b[39;49m\u001b[38;5;241;43m.\u001b[39;49m\u001b[43mconvert_dtype\u001b[49m\n\u001b[1;32m   1509\u001b[0m \u001b[43m\u001b[49m\u001b[43m)\u001b[49m\n\u001b[1;32m   1511\u001b[0m \u001b[38;5;28;01mif\u001b[39;00m \u001b[38;5;28mlen\u001b[39m(mapped) \u001b[38;5;129;01mand\u001b[39;00m \u001b[38;5;28misinstance\u001b[39m(mapped[\u001b[38;5;241m0\u001b[39m], ABCSeries):\n\u001b[1;32m   1512\u001b[0m     \u001b[38;5;66;03m# GH#43986 Need to do list(mapped) in order to get treated as nested\u001b[39;00m\n\u001b[1;32m   1513\u001b[0m     \u001b[38;5;66;03m#  See also GH#25959 regarding EA support\u001b[39;00m\n\u001b[1;32m   1514\u001b[0m     \u001b[38;5;28;01mreturn\u001b[39;00m obj\u001b[38;5;241m.\u001b[39m_constructor_expanddim(\u001b[38;5;28mlist\u001b[39m(mapped), index\u001b[38;5;241m=\u001b[39mobj\u001b[38;5;241m.\u001b[39mindex)\n",
      "File \u001b[0;32m~/.cache/pypoetry/virtualenvs/hmc-Dk4O7H_f-py3.12/lib/python3.12/site-packages/pandas/core/base.py:921\u001b[0m, in \u001b[0;36mIndexOpsMixin._map_values\u001b[0;34m(self, mapper, na_action, convert)\u001b[0m\n\u001b[1;32m    918\u001b[0m \u001b[38;5;28;01mif\u001b[39;00m \u001b[38;5;28misinstance\u001b[39m(arr, ExtensionArray):\n\u001b[1;32m    919\u001b[0m     \u001b[38;5;28;01mreturn\u001b[39;00m arr\u001b[38;5;241m.\u001b[39mmap(mapper, na_action\u001b[38;5;241m=\u001b[39mna_action)\n\u001b[0;32m--> 921\u001b[0m \u001b[38;5;28;01mreturn\u001b[39;00m \u001b[43malgorithms\u001b[49m\u001b[38;5;241;43m.\u001b[39;49m\u001b[43mmap_array\u001b[49m\u001b[43m(\u001b[49m\u001b[43marr\u001b[49m\u001b[43m,\u001b[49m\u001b[43m \u001b[49m\u001b[43mmapper\u001b[49m\u001b[43m,\u001b[49m\u001b[43m \u001b[49m\u001b[43mna_action\u001b[49m\u001b[38;5;241;43m=\u001b[39;49m\u001b[43mna_action\u001b[49m\u001b[43m,\u001b[49m\u001b[43m \u001b[49m\u001b[43mconvert\u001b[49m\u001b[38;5;241;43m=\u001b[39;49m\u001b[43mconvert\u001b[49m\u001b[43m)\u001b[49m\n",
      "File \u001b[0;32m~/.cache/pypoetry/virtualenvs/hmc-Dk4O7H_f-py3.12/lib/python3.12/site-packages/pandas/core/algorithms.py:1743\u001b[0m, in \u001b[0;36mmap_array\u001b[0;34m(arr, mapper, na_action, convert)\u001b[0m\n\u001b[1;32m   1741\u001b[0m values \u001b[38;5;241m=\u001b[39m arr\u001b[38;5;241m.\u001b[39mastype(\u001b[38;5;28mobject\u001b[39m, copy\u001b[38;5;241m=\u001b[39m\u001b[38;5;28;01mFalse\u001b[39;00m)\n\u001b[1;32m   1742\u001b[0m \u001b[38;5;28;01mif\u001b[39;00m na_action \u001b[38;5;129;01mis\u001b[39;00m \u001b[38;5;28;01mNone\u001b[39;00m:\n\u001b[0;32m-> 1743\u001b[0m     \u001b[38;5;28;01mreturn\u001b[39;00m \u001b[43mlib\u001b[49m\u001b[38;5;241;43m.\u001b[39;49m\u001b[43mmap_infer\u001b[49m\u001b[43m(\u001b[49m\u001b[43mvalues\u001b[49m\u001b[43m,\u001b[49m\u001b[43m \u001b[49m\u001b[43mmapper\u001b[49m\u001b[43m,\u001b[49m\u001b[43m \u001b[49m\u001b[43mconvert\u001b[49m\u001b[38;5;241;43m=\u001b[39;49m\u001b[43mconvert\u001b[49m\u001b[43m)\u001b[49m\n\u001b[1;32m   1744\u001b[0m \u001b[38;5;28;01melse\u001b[39;00m:\n\u001b[1;32m   1745\u001b[0m     \u001b[38;5;28;01mreturn\u001b[39;00m lib\u001b[38;5;241m.\u001b[39mmap_infer_mask(\n\u001b[1;32m   1746\u001b[0m         values, mapper, mask\u001b[38;5;241m=\u001b[39misna(values)\u001b[38;5;241m.\u001b[39mview(np\u001b[38;5;241m.\u001b[39muint8), convert\u001b[38;5;241m=\u001b[39mconvert\n\u001b[1;32m   1747\u001b[0m     )\n",
      "File \u001b[0;32mlib.pyx:2972\u001b[0m, in \u001b[0;36mpandas._libs.lib.map_infer\u001b[0;34m()\u001b[0m\n",
      "Cell \u001b[0;32mIn[56], line 4\u001b[0m, in \u001b[0;36mconvert_to_list_of_arrays\u001b[0;34m(val)\u001b[0m\n\u001b[1;32m      2\u001b[0m \u001b[38;5;28;01mdef\u001b[39;00m \u001b[38;5;21mconvert_to_list_of_arrays\u001b[39m(val):\n\u001b[1;32m      3\u001b[0m     \u001b[38;5;66;03m# Converte string para uma lista de strings\u001b[39;00m\n\u001b[0;32m----> 4\u001b[0m     list_str \u001b[38;5;241m=\u001b[39m \u001b[43mast\u001b[49m\u001b[38;5;241m.\u001b[39mliteral_eval(val)\n\u001b[1;32m      5\u001b[0m     \u001b[38;5;66;03m# Converte cada item da lista para um array NumPy\u001b[39;00m\n\u001b[1;32m      6\u001b[0m     \u001b[38;5;28;01mreturn\u001b[39;00m [np\u001b[38;5;241m.\u001b[39marray(item) \u001b[38;5;28;01mfor\u001b[39;00m item \u001b[38;5;129;01min\u001b[39;00m list_str]\n",
      "\u001b[0;31mNameError\u001b[0m: name 'ast' is not defined"
     ]
    }
   ],
   "source": [
    "# Aplicar ast.literal_eval para converter as strings em listas\n",
    "df_test['all_binarized'] = df_test.all_binarized.apply(convert_to_list_of_arrays)"
   ]
  },
  {
   "cell_type": "code",
   "execution_count": 25,
   "id": "4a64801a",
   "metadata": {},
   "outputs": [
    {
     "data": {
      "text/plain": [
       "'['"
      ]
     },
     "execution_count": 25,
     "metadata": {},
     "output_type": "execute_result"
    }
   ],
   "source": [
    "df_test.all_binarized[0]"
   ]
  },
  {
   "cell_type": "code",
   "execution_count": 6,
   "id": "10c050b7",
   "metadata": {
    "ExecuteTime": {
     "end_time": "2024-09-05T21:56:04.427843Z",
     "start_time": "2024-09-05T21:56:04.361525Z"
    }
   },
   "outputs": [
    {
     "name": "stdout",
     "output_type": "stream",
     "text": [
      "{'sequence_size': 1280, 'max_depth': 4, 'levels_size': [2, 29, 15, 2], 'val_path': '/home/bruno/storage/data/fma/trains/rock_electronic/tfrecrods/val', 'train_path': '/home/bruno/storage/data/fma/trains/rock_electronic/tfrecrods/train', 'test_path': '/home/bruno/storage/data/fma/trains/rock_electronic/tfrecrods/test', 'val_torch_path': '/home/bruno/storage/data/fma/trains/rock_electronic/torch/val', 'train_torch_path': '/home/bruno/storage/data/fma/trains/rock_electronic/torch/train', 'test_torch_path': '/home/bruno/storage/data/fma/trains/rock_electronic/torch/test', 'val_csv': '/home/bruno/storage/data/fma/trains/rock_electronic/val.csv', 'train_csv': '/home/bruno/storage/data/fma/trains/rock_electronic/train.csv', 'test_csv': '/home/bruno/storage/data/fma/trains/rock_electronic/test.csv', 'trainset_count': 18209, 'validationset_count': 2007, 'testset_count': 4814}\n"
     ]
    }
   ],
   "source": [
    "with open(metadata_path, 'r') as f:\n",
    "    metadata = json.loads(f.read())\n",
    "    print(metadata)\n",
    "\n",
    "with open(labels_path, 'r') as f:\n",
    "    labels = json.loads(f.read())\n"
   ]
  },
  {
   "cell_type": "code",
   "execution_count": 5,
   "id": "aed57764",
   "metadata": {
    "ExecuteTime": {
     "end_time": "2024-09-05T21:56:12.400847Z",
     "start_time": "2024-09-05T21:56:12.380763Z"
    }
   },
   "outputs": [],
   "source": [
    "params = {\n",
    "    'levels_size': labels['levels_size'],\n",
    "    'sequence_size': metadata['sequence_size'],\n",
    "    'dropouts': [0.3, 0.7, 0.7, 0.3]\n",
    "}\n"
   ]
  },
  {
   "cell_type": "code",
   "execution_count": 6,
   "id": "6da0f355",
   "metadata": {},
   "outputs": [
    {
     "name": "stderr",
     "output_type": "stream",
     "text": [
      "/tmp/ipykernel_797680/195874492.py:4: FutureWarning: You are using `torch.load` with `weights_only=False` (the current default value), which uses the default pickle module implicitly. It is possible to construct malicious pickle data which will execute arbitrary code during unpickling (See https://github.com/pytorch/pytorch/blob/main/SECURITY.md#untrusted-models for more details). In a future release, the default value for `weights_only` will be flipped to `True`. This limits the functions that could be executed during unpickling. Arbitrary objects will no longer be allowed to be loaded via this mode unless they are explicitly allowlisted by the user via `torch.serialization.add_safe_globals`. We recommend you start setting `weights_only=True` for any use case where you don't have full control of the loaded file. Please open an issue on GitHub for any issues related to this experimental feature.\n",
      "  state_dict = torch.load(model_path)\n"
     ]
    },
    {
     "name": "stdout",
     "output_type": "stream",
     "text": [
      "Chaves do state_dict salvo:\n",
      "odict_keys(['levels.0.fc1.weight', 'levels.0.fc1.bias', 'levels.0.fc2.weight', 'levels.0.fc2.bias', 'levels.1.fc1.weight', 'levels.1.fc1.bias', 'levels.1.fc2.weight', 'levels.1.fc2.bias', 'levels.2.fc1.weight', 'levels.2.fc1.bias', 'levels.2.fc2.weight', 'levels.2.fc2.bias', 'levels.3.fc1.weight', 'levels.3.fc1.bias', 'levels.3.fc2.weight', 'levels.3.fc2.bias'])\n",
      "Chaves do modelo definido:\n",
      "odict_keys(['levels.0.fc1.weight', 'levels.0.fc1.bias', 'levels.0.fc2.weight', 'levels.0.fc2.bias', 'levels.1.fc1.weight', 'levels.1.fc1.bias', 'levels.1.fc2.weight', 'levels.1.fc2.bias', 'levels.2.fc1.weight', 'levels.2.fc1.bias', 'levels.2.fc2.weight', 'levels.2.fc2.bias', 'levels.3.fc1.weight', 'levels.3.fc1.bias', 'levels.3.fc2.weight', 'levels.3.fc2.bias'])\n"
     ]
    },
    {
     "data": {
      "text/plain": [
       "<All keys matched successfully>"
      ]
     },
     "execution_count": 6,
     "metadata": {},
     "output_type": "execute_result"
    }
   ],
   "source": [
    "\n",
    "model = ClassificationModel(**params)\n",
    "\n",
    "# Carregar o state_dict\n",
    "state_dict = torch.load(model_path)\n",
    "\n",
    "# Imprimir as chaves do state_dict\n",
    "print(\"Chaves do state_dict salvo:\")\n",
    "print(state_dict.keys())\n",
    "\n",
    "# Imprimir as chaves do modelo\n",
    "print(\"Chaves do modelo definido:\")\n",
    "print(model.state_dict().keys())\n",
    "\n",
    "#model_load = torch.load(binary_model)\n",
    "model.load_state_dict(state_dict)"
   ]
  },
  {
   "cell_type": "code",
   "execution_count": 7,
   "id": "78f764bb",
   "metadata": {},
   "outputs": [
    {
     "data": {
      "text/plain": [
       "ClassificationModel(\n",
       "  (levels): ModuleList(\n",
       "    (0): BuildClassification(\n",
       "      (fc1): Linear(in_features=1280, out_features=640, bias=True)\n",
       "      (relu1): ReLU()\n",
       "      (dropout1): Dropout(p=0.3, inplace=False)\n",
       "      (fc2): Linear(in_features=640, out_features=2, bias=True)\n",
       "      (sigmoid): Sigmoid()\n",
       "    )\n",
       "    (1): BuildClassification(\n",
       "      (fc1): Linear(in_features=1282, out_features=641, bias=True)\n",
       "      (relu1): ReLU()\n",
       "      (dropout1): Dropout(p=0.7, inplace=False)\n",
       "      (fc2): Linear(in_features=641, out_features=29, bias=True)\n",
       "      (sigmoid): Sigmoid()\n",
       "    )\n",
       "    (2): BuildClassification(\n",
       "      (fc1): Linear(in_features=1309, out_features=654, bias=True)\n",
       "      (relu1): ReLU()\n",
       "      (dropout1): Dropout(p=0.7, inplace=False)\n",
       "      (fc2): Linear(in_features=654, out_features=15, bias=True)\n",
       "      (sigmoid): Sigmoid()\n",
       "    )\n",
       "    (3): BuildClassification(\n",
       "      (fc1): Linear(in_features=1295, out_features=647, bias=True)\n",
       "      (relu1): ReLU()\n",
       "      (dropout1): Dropout(p=0.3, inplace=False)\n",
       "      (fc2): Linear(in_features=647, out_features=2, bias=True)\n",
       "      (sigmoid): Sigmoid()\n",
       "    )\n",
       "  )\n",
       "  (output_normalization): OutputNormalization()\n",
       ")"
      ]
     },
     "execution_count": 7,
     "metadata": {},
     "output_type": "execute_result"
    }
   ],
   "source": [
    "model.to('cuda')"
   ]
  },
  {
   "cell_type": "code",
   "execution_count": 8,
   "id": "63db1c8d",
   "metadata": {},
   "outputs": [
    {
     "name": "stdout",
     "output_type": "stream",
     "text": [
      "[<built-in function id>] Predict started at 15:11:36\n",
      ".......................................\n",
      ".......................................\n",
      "[<built-in function id>] Predict finished at 15:11:36 / elapsed time 0.608668s\n"
     ]
    }
   ],
   "source": [
    "# %%\n",
    "# Salvar os argumentos atuais\n",
    "time_start = dt.now(UTC)\n",
    "print(\"[{}] Predict started at {}\".format(id, time_start.strftime(\"%H:%M:%S\")))\n",
    "print(\".......................................\")\n",
    "\n",
    "predict = model.predict(testset_path=testset_path,batch_size=64)\n",
    "\n",
    "time_end = dt.now(UTC)\n",
    "time_elapsed = time_end - time_start\n",
    "print(\".......................................\")\n",
    "print(\"[{}] Predict finished at {} / elapsed time {}s\".format(id, time_end.strftime(\"%H:%M:%S\"), time_elapsed.total_seconds()))"
   ]
  },
  {
   "cell_type": "code",
   "execution_count": 10,
   "id": "65cc48d3",
   "metadata": {},
   "outputs": [
    {
     "data": {
      "text/plain": [
       "array([0, 0, 0, 1, 0, 0, 0, 0, 0, 0, 1, 1, 0, 0, 0])"
      ]
     },
     "execution_count": 10,
     "metadata": {},
     "output_type": "execute_result"
    }
   ],
   "source": [
    "predict[2][1]"
   ]
  },
  {
   "cell_type": "code",
   "execution_count": null,
   "id": "0c2c44e2",
   "metadata": {},
   "outputs": [],
   "source": []
  }
 ],
 "metadata": {
  "kernelspec": {
   "display_name": "Python 3 (ipykernel)",
   "language": "python",
   "name": "python3"
  },
  "language_info": {
   "codemirror_mode": {
    "name": "ipython",
    "version": 3
   },
   "file_extension": ".py",
   "mimetype": "text/x-python",
   "name": "python",
   "nbconvert_exporter": "python",
   "pygments_lexer": "ipython3",
   "version": "3.12.5"
  }
 },
 "nbformat": 4,
 "nbformat_minor": 5
}
